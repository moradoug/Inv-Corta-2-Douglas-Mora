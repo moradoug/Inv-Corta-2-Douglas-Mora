{
 "cells": [
  {
   "cell_type": "markdown",
   "metadata": {},
   "source": [
    "## Instituto Tecnológico de Costa Rica\n",
    "## Escuela de Ingeniería Electrónica\n",
    "## Maestría en Electrónica\n",
    "## MP-6122 Reconocimiento de Patrones\n",
    "## Investigación Corta 2 - Aprendizaje Supervisado\n",
    "## Douglas Mora Ceciliano\n",
    "#\n",
    "### Escogiendo un set de datos:\n",
    "Para esta investigacion se eligio el set de datos openpowerlifting.csv\n",
    "Dado su gran tamaño se procede a limpiarlo un poco en Excel previamente se procede a eliminar las columnas que no siguen las reglas estandar: Deadlift4Kg, Bench4Kg, Squat4Kg\n",
    "\n",
    "Fuente: https://www.kaggle.com/open-powerlifting/powerlifting-database/downloads/powerlifting-database.zip/2#openpowerlifting.csv\n",
    "\n",
    "El archivo resultante se encuentra en este Github, el mismo se carga a continuacion:"
   ]
  },
  {
   "cell_type": "code",
   "execution_count": 160,
   "metadata": {},
   "outputs": [],
   "source": [
    "import numpy as np\n",
    "import pandas as pd\n",
    "Frame=pd.read_csv('openpowerlifting.csv')"
   ]
  },
  {
   "cell_type": "markdown",
   "metadata": {},
   "source": [
    "### Etapa de preprocesado\n",
    "\n",
    "Con el fin de obtener mejores resultados se procede a preprocesar los datos"
   ]
  },
  {
   "cell_type": "markdown",
   "metadata": {},
   "source": [
    "#### Determinando tamaño del set de datos\n",
    "A continuacion se utiliza la funcion shape() para determinar el tamaño de nuestro set de datos."
   ]
  },
  {
   "cell_type": "code",
   "execution_count": 161,
   "metadata": {},
   "outputs": [
    {
     "name": "stdout",
     "output_type": "stream",
     "text": [
      " Filas Columnas\n",
      "(509376, 32)\n"
     ]
    }
   ],
   "source": [
    "print (' Filas Columnas')\n",
    "print (Frame.shape)"
   ]
  },
  {
   "cell_type": "markdown",
   "metadata": {},
   "source": [
    "### Seleccionando los Features\n",
    "\n",
    "Utilizaremos el codigo head para determinar el nombre de las columnas en nuestro set."
   ]
  },
  {
   "cell_type": "code",
   "execution_count": 162,
   "metadata": {},
   "outputs": [
    {
     "data": {
      "text/html": [
       "<div>\n",
       "<style scoped>\n",
       "    .dataframe tbody tr th:only-of-type {\n",
       "        vertical-align: middle;\n",
       "    }\n",
       "\n",
       "    .dataframe tbody tr th {\n",
       "        vertical-align: top;\n",
       "    }\n",
       "\n",
       "    .dataframe thead th {\n",
       "        text-align: right;\n",
       "    }\n",
       "</style>\n",
       "<table border=\"1\" class=\"dataframe\">\n",
       "  <thead>\n",
       "    <tr style=\"text-align: right;\">\n",
       "      <th></th>\n",
       "      <th>Name</th>\n",
       "      <th>Sex</th>\n",
       "      <th>Event</th>\n",
       "      <th>Equipment</th>\n",
       "      <th>Age</th>\n",
       "      <th>AgeClass</th>\n",
       "      <th>Division</th>\n",
       "      <th>BodyweightKg</th>\n",
       "      <th>WeightClassKg</th>\n",
       "      <th>Squat1Kg</th>\n",
       "      <th>...</th>\n",
       "      <th>Place</th>\n",
       "      <th>Wilks</th>\n",
       "      <th>McCulloch</th>\n",
       "      <th>Glossbrenner</th>\n",
       "      <th>IPFPoints</th>\n",
       "      <th>Tested</th>\n",
       "      <th>Federation</th>\n",
       "      <th>Date</th>\n",
       "      <th>MeetCountry</th>\n",
       "      <th>MeetName</th>\n",
       "    </tr>\n",
       "  </thead>\n",
       "  <tbody>\n",
       "    <tr>\n",
       "      <th>0</th>\n",
       "      <td>Daniel McGauley</td>\n",
       "      <td>M</td>\n",
       "      <td>SBD</td>\n",
       "      <td>Raw</td>\n",
       "      <td>NaN</td>\n",
       "      <td>NaN</td>\n",
       "      <td>MR-O</td>\n",
       "      <td>56.1</td>\n",
       "      <td>59</td>\n",
       "      <td>100.0</td>\n",
       "      <td>...</td>\n",
       "      <td>1</td>\n",
       "      <td>286.26</td>\n",
       "      <td>286.26</td>\n",
       "      <td>279.89</td>\n",
       "      <td>383.49</td>\n",
       "      <td>Yes</td>\n",
       "      <td>EPA</td>\n",
       "      <td>4/20/2019</td>\n",
       "      <td>UK</td>\n",
       "      <td>South Midlands Spring Open</td>\n",
       "    </tr>\n",
       "    <tr>\n",
       "      <th>1</th>\n",
       "      <td>Rod Ramsey</td>\n",
       "      <td>M</td>\n",
       "      <td>SBD</td>\n",
       "      <td>Raw</td>\n",
       "      <td>NaN</td>\n",
       "      <td>NaN</td>\n",
       "      <td>MR-O</td>\n",
       "      <td>65.7</td>\n",
       "      <td>66</td>\n",
       "      <td>152.5</td>\n",
       "      <td>...</td>\n",
       "      <td>1</td>\n",
       "      <td>396.05</td>\n",
       "      <td>396.05</td>\n",
       "      <td>384.50</td>\n",
       "      <td>579.47</td>\n",
       "      <td>Yes</td>\n",
       "      <td>EPA</td>\n",
       "      <td>4/20/2019</td>\n",
       "      <td>UK</td>\n",
       "      <td>South Midlands Spring Open</td>\n",
       "    </tr>\n",
       "    <tr>\n",
       "      <th>2</th>\n",
       "      <td>Terry Martin</td>\n",
       "      <td>M</td>\n",
       "      <td>SBD</td>\n",
       "      <td>Raw</td>\n",
       "      <td>NaN</td>\n",
       "      <td>NaN</td>\n",
       "      <td>MR-O</td>\n",
       "      <td>73.6</td>\n",
       "      <td>74</td>\n",
       "      <td>215.0</td>\n",
       "      <td>...</td>\n",
       "      <td>1</td>\n",
       "      <td>435.06</td>\n",
       "      <td>435.06</td>\n",
       "      <td>421.02</td>\n",
       "      <td>652.83</td>\n",
       "      <td>Yes</td>\n",
       "      <td>EPA</td>\n",
       "      <td>4/20/2019</td>\n",
       "      <td>UK</td>\n",
       "      <td>South Midlands Spring Open</td>\n",
       "    </tr>\n",
       "    <tr>\n",
       "      <th>3</th>\n",
       "      <td>Geoff Erzan-Essien</td>\n",
       "      <td>M</td>\n",
       "      <td>SBD</td>\n",
       "      <td>Raw</td>\n",
       "      <td>NaN</td>\n",
       "      <td>NaN</td>\n",
       "      <td>MR-O</td>\n",
       "      <td>76.0</td>\n",
       "      <td>83</td>\n",
       "      <td>135.0</td>\n",
       "      <td>...</td>\n",
       "      <td>1</td>\n",
       "      <td>285.96</td>\n",
       "      <td>285.96</td>\n",
       "      <td>276.54</td>\n",
       "      <td>400.88</td>\n",
       "      <td>Yes</td>\n",
       "      <td>EPA</td>\n",
       "      <td>4/20/2019</td>\n",
       "      <td>UK</td>\n",
       "      <td>South Midlands Spring Open</td>\n",
       "    </tr>\n",
       "    <tr>\n",
       "      <th>4</th>\n",
       "      <td>Jason Coultman</td>\n",
       "      <td>M</td>\n",
       "      <td>SBD</td>\n",
       "      <td>Raw</td>\n",
       "      <td>28.5</td>\n",
       "      <td>24-34</td>\n",
       "      <td>MR-O</td>\n",
       "      <td>96.3</td>\n",
       "      <td>105</td>\n",
       "      <td>217.5</td>\n",
       "      <td>...</td>\n",
       "      <td>1</td>\n",
       "      <td>415.79</td>\n",
       "      <td>415.79</td>\n",
       "      <td>400.03</td>\n",
       "      <td>615.97</td>\n",
       "      <td>Yes</td>\n",
       "      <td>EPA</td>\n",
       "      <td>4/20/2019</td>\n",
       "      <td>UK</td>\n",
       "      <td>South Midlands Spring Open</td>\n",
       "    </tr>\n",
       "  </tbody>\n",
       "</table>\n",
       "<p>5 rows × 32 columns</p>\n",
       "</div>"
      ],
      "text/plain": [
       "                 Name Sex Event Equipment   Age AgeClass Division  \\\n",
       "0     Daniel McGauley   M   SBD       Raw   NaN      NaN     MR-O   \n",
       "1          Rod Ramsey   M   SBD       Raw   NaN      NaN     MR-O   \n",
       "2        Terry Martin   M   SBD       Raw   NaN      NaN     MR-O   \n",
       "3  Geoff Erzan-Essien   M   SBD       Raw   NaN      NaN     MR-O   \n",
       "4      Jason Coultman   M   SBD       Raw  28.5    24-34     MR-O   \n",
       "\n",
       "   BodyweightKg WeightClassKg  Squat1Kg  ...  Place   Wilks  McCulloch  \\\n",
       "0          56.1            59     100.0  ...      1  286.26     286.26   \n",
       "1          65.7            66     152.5  ...      1  396.05     396.05   \n",
       "2          73.6            74     215.0  ...      1  435.06     435.06   \n",
       "3          76.0            83     135.0  ...      1  285.96     285.96   \n",
       "4          96.3           105     217.5  ...      1  415.79     415.79   \n",
       "\n",
       "   Glossbrenner  IPFPoints  Tested  Federation       Date  MeetCountry  \\\n",
       "0        279.89     383.49     Yes         EPA  4/20/2019           UK   \n",
       "1        384.50     579.47     Yes         EPA  4/20/2019           UK   \n",
       "2        421.02     652.83     Yes         EPA  4/20/2019           UK   \n",
       "3        276.54     400.88     Yes         EPA  4/20/2019           UK   \n",
       "4        400.03     615.97     Yes         EPA  4/20/2019           UK   \n",
       "\n",
       "                     MeetName  \n",
       "0  South Midlands Spring Open  \n",
       "1  South Midlands Spring Open  \n",
       "2  South Midlands Spring Open  \n",
       "3  South Midlands Spring Open  \n",
       "4  South Midlands Spring Open  \n",
       "\n",
       "[5 rows x 32 columns]"
      ]
     },
     "execution_count": 162,
     "metadata": {},
     "output_type": "execute_result"
    }
   ],
   "source": [
    "Frame.head()"
   ]
  },
  {
   "cell_type": "markdown",
   "metadata": {},
   "source": [
    "Como se puede observar contamos con un ser de varios datos, pero cual seria una salida interesante de averiguar?\n",
    "Para este caso se buscara saber si en base a una serie de variables logramos predecir el exito o fracaso para levantar el siguiente peso. Para ello solo utilizaremos el primer ejercicio (Squat)."
   ]
  },
  {
   "cell_type": "markdown",
   "metadata": {},
   "source": [
    "Para ello seleccionaremos columnas especificas para utilizar como se muestra a continuacion"
   ]
  },
  {
   "cell_type": "code",
   "execution_count": 163,
   "metadata": {},
   "outputs": [],
   "source": [
    "cols2use=['Sex','Equipment','Age','BodyweightKg','Squat1Kg','Squat2Kg','Squat3Kg']"
   ]
  },
  {
   "cell_type": "code",
   "execution_count": 164,
   "metadata": {},
   "outputs": [
    {
     "data": {
      "text/html": [
       "<div>\n",
       "<style scoped>\n",
       "    .dataframe tbody tr th:only-of-type {\n",
       "        vertical-align: middle;\n",
       "    }\n",
       "\n",
       "    .dataframe tbody tr th {\n",
       "        vertical-align: top;\n",
       "    }\n",
       "\n",
       "    .dataframe thead th {\n",
       "        text-align: right;\n",
       "    }\n",
       "</style>\n",
       "<table border=\"1\" class=\"dataframe\">\n",
       "  <thead>\n",
       "    <tr style=\"text-align: right;\">\n",
       "      <th></th>\n",
       "      <th>Sex</th>\n",
       "      <th>Equipment</th>\n",
       "      <th>Age</th>\n",
       "      <th>BodyweightKg</th>\n",
       "      <th>Squat1Kg</th>\n",
       "      <th>Squat2Kg</th>\n",
       "      <th>Squat3Kg</th>\n",
       "    </tr>\n",
       "  </thead>\n",
       "  <tbody>\n",
       "    <tr>\n",
       "      <th>0</th>\n",
       "      <td>M</td>\n",
       "      <td>Raw</td>\n",
       "      <td>NaN</td>\n",
       "      <td>56.1</td>\n",
       "      <td>100.0</td>\n",
       "      <td>110.0</td>\n",
       "      <td>120.0</td>\n",
       "    </tr>\n",
       "    <tr>\n",
       "      <th>1</th>\n",
       "      <td>M</td>\n",
       "      <td>Raw</td>\n",
       "      <td>NaN</td>\n",
       "      <td>65.7</td>\n",
       "      <td>152.5</td>\n",
       "      <td>162.5</td>\n",
       "      <td>170.0</td>\n",
       "    </tr>\n",
       "    <tr>\n",
       "      <th>2</th>\n",
       "      <td>M</td>\n",
       "      <td>Raw</td>\n",
       "      <td>NaN</td>\n",
       "      <td>73.6</td>\n",
       "      <td>215.0</td>\n",
       "      <td>-225.0</td>\n",
       "      <td>-225.0</td>\n",
       "    </tr>\n",
       "    <tr>\n",
       "      <th>3</th>\n",
       "      <td>M</td>\n",
       "      <td>Raw</td>\n",
       "      <td>NaN</td>\n",
       "      <td>76.0</td>\n",
       "      <td>135.0</td>\n",
       "      <td>140.0</td>\n",
       "      <td>150.0</td>\n",
       "    </tr>\n",
       "    <tr>\n",
       "      <th>4</th>\n",
       "      <td>M</td>\n",
       "      <td>Raw</td>\n",
       "      <td>28.5</td>\n",
       "      <td>96.3</td>\n",
       "      <td>217.5</td>\n",
       "      <td>225.0</td>\n",
       "      <td>232.5</td>\n",
       "    </tr>\n",
       "  </tbody>\n",
       "</table>\n",
       "</div>"
      ],
      "text/plain": [
       "  Sex Equipment   Age  BodyweightKg  Squat1Kg  Squat2Kg  Squat3Kg\n",
       "0   M       Raw   NaN          56.1     100.0     110.0     120.0\n",
       "1   M       Raw   NaN          65.7     152.5     162.5     170.0\n",
       "2   M       Raw   NaN          73.6     215.0    -225.0    -225.0\n",
       "3   M       Raw   NaN          76.0     135.0     140.0     150.0\n",
       "4   M       Raw  28.5          96.3     217.5     225.0     232.5"
      ]
     },
     "execution_count": 164,
     "metadata": {},
     "output_type": "execute_result"
    }
   ],
   "source": [
    "Frame=Frame[cols2use]\n",
    "Frame.head()"
   ]
  },
  {
   "cell_type": "markdown",
   "metadata": {},
   "source": [
    "Estos son entonces los datos de interes, posteriormente se agregaran mas en base a estos mismos. Pero primero se trabajaran un poco mas."
   ]
  },
  {
   "cell_type": "markdown",
   "metadata": {},
   "source": [
    "#### Limpiando Nulls\n",
    "Utilizando el siguiente codigo buscaremos identificar si hay algún valor nulo en el set."
   ]
  },
  {
   "cell_type": "code",
   "execution_count": 165,
   "metadata": {},
   "outputs": [
    {
     "name": "stdout",
     "output_type": "stream",
     "text": [
      "Identificacion de cantidad de valores nulos\n",
      "Sex               4214\n",
      "Equipment         4214\n",
      "Age             183964\n",
      "BodyweightKg      4663\n",
      "Squat1Kg        335150\n",
      "Squat2Kg        337012\n",
      "Squat3Kg        341101\n",
      "dtype: int64\n"
     ]
    }
   ],
   "source": [
    "print('Identificacion de cantidad de valores nulos')\n",
    "nNULL=Frame.isnull().sum()\n",
    "print(nNULL)"
   ]
  },
  {
   "cell_type": "markdown",
   "metadata": {},
   "source": [
    "Una vez identificados se procede a eliminar dichos valores nulos"
   ]
  },
  {
   "cell_type": "code",
   "execution_count": 166,
   "metadata": {},
   "outputs": [
    {
     "name": "stdout",
     "output_type": "stream",
     "text": [
      "Sex             0\n",
      "Equipment       0\n",
      "Age             0\n",
      "BodyweightKg    0\n",
      "Squat1Kg        0\n",
      "Squat2Kg        0\n",
      "Squat3Kg        0\n",
      "dtype: int64\n"
     ]
    }
   ],
   "source": [
    "Frame=Frame.dropna()\n",
    "nNULL=Frame.isnull().sum()\n",
    "print(nNULL)"
   ]
  },
  {
   "cell_type": "markdown",
   "metadata": {},
   "source": [
    "Este procedimiento nos deja con una cantidad bastante menor de datos. Normalmente Eliminar los valores nulos no deberia ser la primera opcion pero tomando en cuenta el gran numero de datos se decido utilizarla."
   ]
  },
  {
   "cell_type": "code",
   "execution_count": 167,
   "metadata": {},
   "outputs": [
    {
     "name": "stdout",
     "output_type": "stream",
     "text": [
      " Filas Columnas\n",
      "(149291, 7)\n"
     ]
    }
   ],
   "source": [
    "print (' Filas Columnas')\n",
    "print (Frame.shape)"
   ]
  },
  {
   "cell_type": "markdown",
   "metadata": {},
   "source": [
    "Nos quedamos entonces con aproximadamente 149 mil lineas. que representan la seccion de la poblacion para la cual conocemos todos los datos de interes."
   ]
  },
  {
   "cell_type": "markdown",
   "metadata": {},
   "source": [
    "#### Definiendo Features y Labels\n",
    "\n",
    "Una parte fundamental del Aprendizaje supervisado es definir los Features de los Labels. Los primeros son tanto las entradas que utilizamos para probar como para testear nuestro sistema. Mientras que los segundos se usan para entrenar y evaluar el sistema."
   ]
  },
  {
   "cell_type": "markdown",
   "metadata": {},
   "source": [
    "Como se menciono anteriormente la idea sera determinar si es posible predecir el exito en el levantamiento 3 basados en un grupo de entradas."
   ]
  },
  {
   "cell_type": "markdown",
   "metadata": {},
   "source": [
    "Sexo: Es evidente que por un factor biologico los hombres pueden llegar a levantar mas peso que las mujeres suponiendo igualdad de condiciones por lo que este factor sera tomado en cuenta. Se utilizara 1 para Hombre y 0 para Mujer."
   ]
  },
  {
   "cell_type": "code",
   "execution_count": 168,
   "metadata": {},
   "outputs": [],
   "source": [
    "Frame['Sex']=Frame['Sex'].replace({'M':1,'F':0})"
   ]
  },
  {
   "cell_type": "markdown",
   "metadata": {},
   "source": [
    "Equipo: Parte de la hipotesis es que ciertos equipos pueden afectar el desempeño. Se usara Raw=0, Wraps=1, Multi-ply=2, Single-ply=3"
   ]
  },
  {
   "cell_type": "code",
   "execution_count": 169,
   "metadata": {},
   "outputs": [],
   "source": [
    "Frame['Equipment']=Frame['Equipment'].replace({'Raw':0, 'Wraps':1, 'Multi-ply':2, 'Single-ply':3})"
   ]
  },
  {
   "cell_type": "markdown",
   "metadata": {},
   "source": [
    "Edad: La edad es un factor que tambien sera tomado en cuenta. Se supone que un niño o adulto mayor no contaran con la capacidad fisica que un adulto en sus 20-30 años. Denuevo suponiendo igualdad de condiciones."
   ]
  },
  {
   "cell_type": "markdown",
   "metadata": {},
   "source": [
    "Peso: Se estima que el peso corporal debe estar relacionado con la cantidad de peso que se puede levantar."
   ]
  },
  {
   "cell_type": "markdown",
   "metadata": {},
   "source": [
    "Exito en Squat 1: Se tuvo exito en el levantamiento 1. 1 es un Exito y 0 es un Fallo."
   ]
  },
  {
   "cell_type": "code",
   "execution_count": 170,
   "metadata": {},
   "outputs": [],
   "source": [
    "Frame['Success1']=Frame['Squat1Kg'].apply(lambda x: 1 if x>=0 else 0)"
   ]
  },
  {
   "cell_type": "markdown",
   "metadata": {},
   "source": [
    "Squat1: Cantidad de peso levantado en el primer squat (Se aplica valor absoluto para separar el valor levantado del signo que era la representacion del exito o el fracaso)"
   ]
  },
  {
   "cell_type": "code",
   "execution_count": 171,
   "metadata": {},
   "outputs": [],
   "source": [
    "Frame['Squat1Kg']=Frame['Squat1Kg'].abs()"
   ]
  },
  {
   "cell_type": "markdown",
   "metadata": {},
   "source": [
    "Se hace lo mismo con el Squat2 y Squat3"
   ]
  },
  {
   "cell_type": "code",
   "execution_count": 172,
   "metadata": {},
   "outputs": [],
   "source": [
    "Frame['Success2']=Frame['Squat2Kg'].apply(lambda x: 1 if x>=0 else 0)\n",
    "Frame['Squat2Kg']=Frame['Squat2Kg'].abs()\n",
    "Frame['Success3']=Frame['Squat3Kg'].apply(lambda x: 1 if x>=0 else 0)\n",
    "Frame['Squat3Kg']=Frame['Squat3Kg'].abs()"
   ]
  },
  {
   "cell_type": "markdown",
   "metadata": {},
   "source": [
    "El resultado se observa a continuacion:"
   ]
  },
  {
   "cell_type": "code",
   "execution_count": 173,
   "metadata": {},
   "outputs": [
    {
     "data": {
      "text/html": [
       "<div>\n",
       "<style scoped>\n",
       "    .dataframe tbody tr th:only-of-type {\n",
       "        vertical-align: middle;\n",
       "    }\n",
       "\n",
       "    .dataframe tbody tr th {\n",
       "        vertical-align: top;\n",
       "    }\n",
       "\n",
       "    .dataframe thead th {\n",
       "        text-align: right;\n",
       "    }\n",
       "</style>\n",
       "<table border=\"1\" class=\"dataframe\">\n",
       "  <thead>\n",
       "    <tr style=\"text-align: right;\">\n",
       "      <th></th>\n",
       "      <th>Sex</th>\n",
       "      <th>Equipment</th>\n",
       "      <th>Age</th>\n",
       "      <th>BodyweightKg</th>\n",
       "      <th>Squat1Kg</th>\n",
       "      <th>Squat2Kg</th>\n",
       "      <th>Squat3Kg</th>\n",
       "      <th>Success1</th>\n",
       "      <th>Success2</th>\n",
       "      <th>Success3</th>\n",
       "    </tr>\n",
       "  </thead>\n",
       "  <tbody>\n",
       "    <tr>\n",
       "      <th>4</th>\n",
       "      <td>1</td>\n",
       "      <td>0</td>\n",
       "      <td>28.5</td>\n",
       "      <td>96.3</td>\n",
       "      <td>217.5</td>\n",
       "      <td>225.0</td>\n",
       "      <td>232.5</td>\n",
       "      <td>1</td>\n",
       "      <td>1</td>\n",
       "      <td>1</td>\n",
       "    </tr>\n",
       "    <tr>\n",
       "      <th>11</th>\n",
       "      <td>1</td>\n",
       "      <td>0</td>\n",
       "      <td>34.5</td>\n",
       "      <td>119.7</td>\n",
       "      <td>295.0</td>\n",
       "      <td>315.0</td>\n",
       "      <td>330.0</td>\n",
       "      <td>1</td>\n",
       "      <td>1</td>\n",
       "      <td>0</td>\n",
       "    </tr>\n",
       "    <tr>\n",
       "      <th>12</th>\n",
       "      <td>0</td>\n",
       "      <td>0</td>\n",
       "      <td>26.5</td>\n",
       "      <td>56.5</td>\n",
       "      <td>140.0</td>\n",
       "      <td>147.5</td>\n",
       "      <td>152.5</td>\n",
       "      <td>1</td>\n",
       "      <td>1</td>\n",
       "      <td>1</td>\n",
       "    </tr>\n",
       "    <tr>\n",
       "      <th>54</th>\n",
       "      <td>0</td>\n",
       "      <td>0</td>\n",
       "      <td>22.0</td>\n",
       "      <td>51.0</td>\n",
       "      <td>80.0</td>\n",
       "      <td>85.0</td>\n",
       "      <td>90.0</td>\n",
       "      <td>1</td>\n",
       "      <td>1</td>\n",
       "      <td>1</td>\n",
       "    </tr>\n",
       "    <tr>\n",
       "      <th>55</th>\n",
       "      <td>0</td>\n",
       "      <td>0</td>\n",
       "      <td>26.0</td>\n",
       "      <td>66.0</td>\n",
       "      <td>90.0</td>\n",
       "      <td>95.0</td>\n",
       "      <td>100.0</td>\n",
       "      <td>1</td>\n",
       "      <td>1</td>\n",
       "      <td>1</td>\n",
       "    </tr>\n",
       "  </tbody>\n",
       "</table>\n",
       "</div>"
      ],
      "text/plain": [
       "    Sex  Equipment   Age  BodyweightKg  Squat1Kg  Squat2Kg  Squat3Kg  \\\n",
       "4     1          0  28.5          96.3     217.5     225.0     232.5   \n",
       "11    1          0  34.5         119.7     295.0     315.0     330.0   \n",
       "12    0          0  26.5          56.5     140.0     147.5     152.5   \n",
       "54    0          0  22.0          51.0      80.0      85.0      90.0   \n",
       "55    0          0  26.0          66.0      90.0      95.0     100.0   \n",
       "\n",
       "    Success1  Success2  Success3  \n",
       "4          1         1         1  \n",
       "11         1         1         0  \n",
       "12         1         1         1  \n",
       "54         1         1         1  \n",
       "55         1         1         1  "
      ]
     },
     "execution_count": 173,
     "metadata": {},
     "output_type": "execute_result"
    }
   ],
   "source": [
    "Frame.head()"
   ]
  },
  {
   "cell_type": "markdown",
   "metadata": {},
   "source": [
    "Se selecciona entonces los Features de interes."
   ]
  },
  {
   "cell_type": "code",
   "execution_count": 175,
   "metadata": {},
   "outputs": [],
   "source": [
    "Features = Frame[['Sex','Equipment','Age','BodyweightKg','Squat1Kg','Success1','Squat2Kg','Success2','Squat3Kg']]"
   ]
  },
  {
   "cell_type": "markdown",
   "metadata": {},
   "source": [
    "El Label sera la caracteristica a predecir."
   ]
  },
  {
   "cell_type": "code",
   "execution_count": 176,
   "metadata": {},
   "outputs": [],
   "source": [
    "Label = Frame['Success3']"
   ]
  },
  {
   "cell_type": "markdown",
   "metadata": {},
   "source": [
    "### Analisis a partir de multiples metodos supervisados:\n",
    "\n",
    "Se escogieron 6 metodos de aprendizaje supervisado. Para comparar sus propiedades a continuacion se muestran los resultados obtenidos para cada uno de ellos."
   ]
  },
  {
   "cell_type": "markdown",
   "metadata": {},
   "source": [
    "Antes de entrar en materia es importante comentar una caracteristica particular de este tipo de metodos es que se requiere un grupo de datos para entrenar y un grupo de datos para Testear que el entrenamiento se ha llevado a cabo con exito. Para ello utilizaremos la siguiente instruccion:"
   ]
  },
  {
   "cell_type": "code",
   "execution_count": 177,
   "metadata": {},
   "outputs": [],
   "source": [
    "from sklearn.model_selection import train_test_split"
   ]
  },
  {
   "cell_type": "markdown",
   "metadata": {},
   "source": [
    "Separaremos entonces nuestros features y labels en dos grupos uno de test y uno de train"
   ]
  },
  {
   "cell_type": "code",
   "execution_count": 178,
   "metadata": {},
   "outputs": [],
   "source": [
    "X_train, X_test, Y_train, Y_test = train_test_split(Features, Label, random_state=27)"
   ]
  },
  {
   "cell_type": "markdown",
   "metadata": {},
   "source": []
  },
  {
   "cell_type": "code",
   "execution_count": 182,
   "metadata": {},
   "outputs": [],
   "source": [
    "from sklearn.tree import DecisionTreeClassifier"
   ]
  },
  {
   "cell_type": "code",
   "execution_count": 183,
   "metadata": {},
   "outputs": [],
   "source": [
    "DecisionTreeModel = DecisionTreeClassifier(max_depth=3)"
   ]
  },
  {
   "cell_type": "code",
   "execution_count": 184,
   "metadata": {},
   "outputs": [
    {
     "data": {
      "text/plain": [
       "DecisionTreeClassifier(class_weight=None, criterion='gini', max_depth=3,\n",
       "                       max_features=None, max_leaf_nodes=None,\n",
       "                       min_impurity_decrease=0.0, min_impurity_split=None,\n",
       "                       min_samples_leaf=1, min_samples_split=2,\n",
       "                       min_weight_fraction_leaf=0.0, presort=False,\n",
       "                       random_state=None, splitter='best')"
      ]
     },
     "execution_count": 184,
     "metadata": {},
     "output_type": "execute_result"
    }
   ],
   "source": [
    "DecisionTreeModel.fit(X_train,Y_train)"
   ]
  },
  {
   "cell_type": "code",
   "execution_count": null,
   "metadata": {},
   "outputs": [],
   "source": []
  }
 ],
 "metadata": {
  "kernelspec": {
   "display_name": "Python 3",
   "language": "python",
   "name": "python3"
  },
  "language_info": {
   "codemirror_mode": {
    "name": "ipython",
    "version": 3
   },
   "file_extension": ".py",
   "mimetype": "text/x-python",
   "name": "python",
   "nbconvert_exporter": "python",
   "pygments_lexer": "ipython3",
   "version": "3.7.3"
  }
 },
 "nbformat": 4,
 "nbformat_minor": 2
}
