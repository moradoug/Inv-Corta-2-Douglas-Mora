{
 "cells": [
  {
   "cell_type": "markdown",
   "metadata": {},
   "source": [
    "## Instituto Tecnológico de Costa Rica\n",
    "## Escuela de Ingeniería Electrónica\n",
    "## Maestría en Electrónica\n",
    "## MP-6122 Reconocimiento de Patrones\n",
    "## Investigación Corta 2 - Aprendizaje Supervisado\n",
    "## Douglas Mora Ceciliano\n",
    "\n",
    "### Escogiendo un set de datos:\n",
    "Para esta investigación se eligió el set de datos Red Wine Quality el cual cuenta con una serie de características propias de los vinos y una calificación del 1 al 10 que define su calidad. El objetivo será entonces crear un modelo de aprendizaje que pueda aproximar el valor de calidad de los vinos utilizando únicamente sus características.\n",
    "\n",
    "Fuente: https://www.kaggle.com/uciml/red-wine-quality-cortez-et-al-2009/downloads/red-wine-quality-cortez-et-al-2009.zip/2"
   ]
  },
  {
   "cell_type": "code",
   "execution_count": 1,
   "metadata": {},
   "outputs": [],
   "source": [
    "import numpy as np\n",
    "import pandas as pd\n",
    "from matplotlib import pyplot as plt\n",
    "Frame=pd.read_csv('winequality-red.csv')"
   ]
  },
  {
   "cell_type": "markdown",
   "metadata": {},
   "source": [
    "### Etapa de pre procesado\n",
    "\n",
    "Con el fin de obtener mejores resultados se procede a pre procesar los datos"
   ]
  },
  {
   "cell_type": "markdown",
   "metadata": {},
   "source": [
    "#### Determinando tamaño del set de datos\n",
    "A continuación se utiliza la función shape() para determinar el tamaño de nuestro set de datos."
   ]
  },
  {
   "cell_type": "code",
   "execution_count": 2,
   "metadata": {},
   "outputs": [
    {
     "name": "stdout",
     "output_type": "stream",
     "text": [
      " Filas Columnas\n",
      "(1599, 12)\n"
     ]
    }
   ],
   "source": [
    "print (' Filas Columnas')\n",
    "print (Frame.shape)"
   ]
  },
  {
   "cell_type": "markdown",
   "metadata": {},
   "source": [
    "#### Limpiando Nulls\n",
    "Utilizando el siguiente código buscaremos identificar si hay algún valor nulo en el set."
   ]
  },
  {
   "cell_type": "code",
   "execution_count": 62,
   "metadata": {},
   "outputs": [
    {
     "name": "stdout",
     "output_type": "stream",
     "text": [
      "Identificacion de cantidad de valores nulos\n",
      "fixed acidity           0\n",
      "volatile acidity        0\n",
      "citric acid             0\n",
      "residual sugar          0\n",
      "chlorides               0\n",
      "free sulfur dioxide     0\n",
      "total sulfur dioxide    0\n",
      "density                 0\n",
      "pH                      0\n",
      "sulphates               0\n",
      "alcohol                 0\n",
      "quality                 0\n",
      "dtype: int64\n"
     ]
    }
   ],
   "source": [
    "print('Identificacion de cantidad de valores nulos')\n",
    "nNULL=Frame.isnull().sum()\n",
    "print(nNULL)"
   ]
  },
  {
   "cell_type": "markdown",
   "metadata": {},
   "source": [
    "Como se observa este set de datos no posee valores nulos por lo que está listo para ser utilizado."
   ]
  },
  {
   "cell_type": "markdown",
   "metadata": {},
   "source": [
    "#### Análisis Exploratorio\n",
    "Procederemos a hacer un análisis exploratorio que nos permita ver como son nuestros datos."
   ]
  },
  {
   "cell_type": "markdown",
   "metadata": {},
   "source": [
    "Podemos utilizar el comando describe para tener un resumen de los valores estadísticos más relevantes"
   ]
  },
  {
   "cell_type": "code",
   "execution_count": 4,
   "metadata": {},
   "outputs": [
    {
     "name": "stdout",
     "output_type": "stream",
     "text": [
      "       fixed acidity  volatile acidity  citric acid  residual sugar  \\\n",
      "count    1599.000000       1599.000000  1599.000000     1599.000000   \n",
      "mean        8.319637          0.527821     0.270976        2.538806   \n",
      "std         1.741096          0.179060     0.194801        1.409928   \n",
      "min         4.600000          0.120000     0.000000        0.900000   \n",
      "25%         7.100000          0.390000     0.090000        1.900000   \n",
      "50%         7.900000          0.520000     0.260000        2.200000   \n",
      "75%         9.200000          0.640000     0.420000        2.600000   \n",
      "max        15.900000          1.580000     1.000000       15.500000   \n",
      "\n",
      "         chlorides  free sulfur dioxide  total sulfur dioxide      density  \\\n",
      "count  1599.000000          1599.000000           1599.000000  1599.000000   \n",
      "mean      0.087467            15.874922             46.467792     0.996747   \n",
      "std       0.047065            10.460157             32.895324     0.001887   \n",
      "min       0.012000             1.000000              6.000000     0.990070   \n",
      "25%       0.070000             7.000000             22.000000     0.995600   \n",
      "50%       0.079000            14.000000             38.000000     0.996750   \n",
      "75%       0.090000            21.000000             62.000000     0.997835   \n",
      "max       0.611000            72.000000            289.000000     1.003690   \n",
      "\n",
      "                pH    sulphates      alcohol      quality  \n",
      "count  1599.000000  1599.000000  1599.000000  1599.000000  \n",
      "mean      3.311113     0.658149    10.422983     5.636023  \n",
      "std       0.154386     0.169507     1.065668     0.807569  \n",
      "min       2.740000     0.330000     8.400000     3.000000  \n",
      "25%       3.210000     0.550000     9.500000     5.000000  \n",
      "50%       3.310000     0.620000    10.200000     6.000000  \n",
      "75%       3.400000     0.730000    11.100000     6.000000  \n",
      "max       4.010000     2.000000    14.900000     8.000000  \n"
     ]
    }
   ],
   "source": [
    "print(Frame.describe())"
   ]
  },
  {
   "cell_type": "markdown",
   "metadata": {},
   "source": [
    "De acá podemos sacar conclusiones importantes, sin embargo muchas veces se prefiere un método más gráfico, para ello tenemos el siguiente código:"
   ]
  },
  {
   "cell_type": "code",
   "execution_count": 5,
   "metadata": {},
   "outputs": [
    {
     "data": {
      "image/png": "[encoded data removed]",
      "text/plain": [
       "<Figure size 360x216 with 1 Axes>"
      ]
     },
     "metadata": {
      "needs_background": "light"
     },
     "output_type": "display_data"
    }
   ],
   "source": [
    "figure1=plt.figure(figsize=(5,3)) #(X,Y) pixeles\n",
    "Frame.quality.value_counts(sort=0).plot(kind='bar', alpha=1, sort_columns='False')\n",
    "plt.title('Distribucion de calidad vinos en el set de datos')\n",
    "plt.show()"
   ]
  },
  {
   "cell_type": "markdown",
   "metadata": {},
   "source": [
    "Podemos observar que los datos que tenemos poseen un distribución Gaussiana."
   ]
  },
  {
   "cell_type": "markdown",
   "metadata": {},
   "source": [
    "### Seleccionando los Datos a utilizar\n",
    "\n",
    "Utilizaremos el código head para determinar el nombre de las columnas en nuestro set."
   ]
  },
  {
   "cell_type": "code",
   "execution_count": 6,
   "metadata": {},
   "outputs": [
    {
     "data": {
      "text/html": [
       "<div>\n",
       "<style scoped>\n",
       "    .dataframe tbody tr th:only-of-type {\n",
       "        vertical-align: middle;\n",
       "    }\n",
       "\n",
       "    .dataframe tbody tr th {\n",
       "        vertical-align: top;\n",
       "    }\n",
       "\n",
       "    .dataframe thead th {\n",
       "        text-align: right;\n",
       "    }\n",
       "</style>\n",
       "<table border=\"1\" class=\"dataframe\">\n",
       "  <thead>\n",
       "    <tr style=\"text-align: right;\">\n",
       "      <th></th>\n",
       "      <th>fixed acidity</th>\n",
       "      <th>volatile acidity</th>\n",
       "      <th>citric acid</th>\n",
       "      <th>residual sugar</th>\n",
       "      <th>chlorides</th>\n",
       "      <th>free sulfur dioxide</th>\n",
       "      <th>total sulfur dioxide</th>\n",
       "      <th>density</th>\n",
       "      <th>pH</th>\n",
       "      <th>sulphates</th>\n",
       "      <th>alcohol</th>\n",
       "      <th>quality</th>\n",
       "    </tr>\n",
       "  </thead>\n",
       "  <tbody>\n",
       "    <tr>\n",
       "      <th>0</th>\n",
       "      <td>7.4</td>\n",
       "      <td>0.70</td>\n",
       "      <td>0.00</td>\n",
       "      <td>1.9</td>\n",
       "      <td>0.076</td>\n",
       "      <td>11.0</td>\n",
       "      <td>34.0</td>\n",
       "      <td>0.9978</td>\n",
       "      <td>3.51</td>\n",
       "      <td>0.56</td>\n",
       "      <td>9.4</td>\n",
       "      <td>5</td>\n",
       "    </tr>\n",
       "    <tr>\n",
       "      <th>1</th>\n",
       "      <td>7.8</td>\n",
       "      <td>0.88</td>\n",
       "      <td>0.00</td>\n",
       "      <td>2.6</td>\n",
       "      <td>0.098</td>\n",
       "      <td>25.0</td>\n",
       "      <td>67.0</td>\n",
       "      <td>0.9968</td>\n",
       "      <td>3.20</td>\n",
       "      <td>0.68</td>\n",
       "      <td>9.8</td>\n",
       "      <td>5</td>\n",
       "    </tr>\n",
       "    <tr>\n",
       "      <th>2</th>\n",
       "      <td>7.8</td>\n",
       "      <td>0.76</td>\n",
       "      <td>0.04</td>\n",
       "      <td>2.3</td>\n",
       "      <td>0.092</td>\n",
       "      <td>15.0</td>\n",
       "      <td>54.0</td>\n",
       "      <td>0.9970</td>\n",
       "      <td>3.26</td>\n",
       "      <td>0.65</td>\n",
       "      <td>9.8</td>\n",
       "      <td>5</td>\n",
       "    </tr>\n",
       "    <tr>\n",
       "      <th>3</th>\n",
       "      <td>11.2</td>\n",
       "      <td>0.28</td>\n",
       "      <td>0.56</td>\n",
       "      <td>1.9</td>\n",
       "      <td>0.075</td>\n",
       "      <td>17.0</td>\n",
       "      <td>60.0</td>\n",
       "      <td>0.9980</td>\n",
       "      <td>3.16</td>\n",
       "      <td>0.58</td>\n",
       "      <td>9.8</td>\n",
       "      <td>6</td>\n",
       "    </tr>\n",
       "    <tr>\n",
       "      <th>4</th>\n",
       "      <td>7.4</td>\n",
       "      <td>0.70</td>\n",
       "      <td>0.00</td>\n",
       "      <td>1.9</td>\n",
       "      <td>0.076</td>\n",
       "      <td>11.0</td>\n",
       "      <td>34.0</td>\n",
       "      <td>0.9978</td>\n",
       "      <td>3.51</td>\n",
       "      <td>0.56</td>\n",
       "      <td>9.4</td>\n",
       "      <td>5</td>\n",
       "    </tr>\n",
       "  </tbody>\n",
       "</table>\n",
       "</div>"
      ],
      "text/plain": [
       "   fixed acidity  volatile acidity  citric acid  residual sugar  chlorides  \\\n",
       "0            7.4              0.70         0.00             1.9      0.076   \n",
       "1            7.8              0.88         0.00             2.6      0.098   \n",
       "2            7.8              0.76         0.04             2.3      0.092   \n",
       "3           11.2              0.28         0.56             1.9      0.075   \n",
       "4            7.4              0.70         0.00             1.9      0.076   \n",
       "\n",
       "   free sulfur dioxide  total sulfur dioxide  density    pH  sulphates  \\\n",
       "0                 11.0                  34.0   0.9978  3.51       0.56   \n",
       "1                 25.0                  67.0   0.9968  3.20       0.68   \n",
       "2                 15.0                  54.0   0.9970  3.26       0.65   \n",
       "3                 17.0                  60.0   0.9980  3.16       0.58   \n",
       "4                 11.0                  34.0   0.9978  3.51       0.56   \n",
       "\n",
       "   alcohol  quality  \n",
       "0      9.4        5  \n",
       "1      9.8        5  \n",
       "2      9.8        5  \n",
       "3      9.8        6  \n",
       "4      9.4        5  "
      ]
     },
     "execution_count": 6,
     "metadata": {},
     "output_type": "execute_result"
    }
   ],
   "source": [
    "Frame.head()"
   ]
  },
  {
   "cell_type": "markdown",
   "metadata": {},
   "source": [
    "Por ahora utilizaremos todas las columnas pues por ahora se desconoce el peso de cada una de las variables sobre la calidad del producto en específico."
   ]
  },
  {
   "cell_type": "markdown",
   "metadata": {},
   "source": [
    "#### Definiendo Features y Labels\n",
    "\n",
    "Una parte fundamental del Aprendizaje supervisado es definir los Features de los Labels. Los primeros son tanto las entradas que utilizamos para probar como para testear nuestro sistema. Mientras que los segundos se usan para entrenar y evaluar el sistema."
   ]
  },
  {
   "cell_type": "markdown",
   "metadata": {},
   "source": [
    "Como se mencionó anteriormente la idea será determinar si es posible predecir el éxito la calidad de un vino rojo particular basándonos en sus características químicas.\n",
    "\n",
    "A partir de esta premisa sabemos que nuestro Lable será la calidad y nuestros Features serán todas las demás características.\n"
   ]
  },
  {
   "cell_type": "code",
   "execution_count": 7,
   "metadata": {},
   "outputs": [],
   "source": [
    "Label = Frame['quality']\n",
    "\n",
    "Features = Frame[['fixed acidity','volatile acidity','citric acid','residual sugar','chlorides','free sulfur dioxide','total sulfur dioxide','density','pH','sulphates','alcohol']]"
   ]
  },
  {
   "cell_type": "markdown",
   "metadata": {},
   "source": [
    "### Análisis a partir de múltiples métodos supervisados:\n",
    "\n",
    "Se escogieron 6 métodos de aprendizaje supervisado. Para comparar sus propiedades a continuación se muestran los resultados obtenidos para cada uno de ellos."
   ]
  },
  {
   "cell_type": "markdown",
   "metadata": {},
   "source": [
    "Antes de entrar en materia es importante comentar una característica particular de este tipo de métodos es que se requiere un grupo de datos para entrenar y un grupo de datos para Testear que el entrenamiento se ha llevado a cabo con éxito. Para ello utilizaremos la siguiente instrucción:"
   ]
  },
  {
   "cell_type": "code",
   "execution_count": 8,
   "metadata": {},
   "outputs": [],
   "source": [
    "from sklearn.model_selection import train_test_split"
   ]
  },
  {
   "cell_type": "markdown",
   "metadata": {},
   "source": [
    "Separaremos entonces nuestros features y labels en dos grupos uno de test y uno de train pero antes haremos un arreglo que nos ayudara a evaluar la capacidad de los métodos. Se reducirá el numero de clases de nuestro lable de 10 a 3."
   ]
  },
  {
   "cell_type": "markdown",
   "metadata": {},
   "source": [
    "Le llamaremos Lable2 y estara clasificada en:\n",
    "    Baja calidad=0;\n",
    "    Calidad Media=1;\n",
    "    Alta calidad=2;\n",
    "Para ello utilizaremos la función apply()"
   ]
  },
  {
   "cell_type": "code",
   "execution_count": 9,
   "metadata": {},
   "outputs": [],
   "source": [
    "Label2=Label\n",
    "Label2=Label2.apply(lambda x: 2 if x>6 else 1 if x>4 else 0)"
   ]
  },
  {
   "cell_type": "markdown",
   "metadata": {},
   "source": [
    "Los resultados se aprecian en la figura generada con el siguiente codigo:"
   ]
  },
  {
   "cell_type": "code",
   "execution_count": 63,
   "metadata": {},
   "outputs": [
    {
     "data": {
      "image/png": "[encoded data removed]",
      "text/plain": [
       "<Figure size 360x216 with 1 Axes>"
      ]
     },
     "metadata": {
      "needs_background": "light"
     },
     "output_type": "display_data"
    }
   ],
   "source": [
    "figure1=plt.figure(figsize=(5,3)) #(X,Y) pixeles\n",
    "Label2.value_counts(sort=0).plot(kind='bar', alpha=1, sort_columns='False')\n",
    "plt.title('Distribucion de calidad vinos en el set de datos (reducidos)')\n",
    "plt.show()"
   ]
  },
  {
   "cell_type": "markdown",
   "metadata": {},
   "source": [
    "Como se observa en Label2 se tienen menos clases. Pero por ahora se dejará esto de lado y se procederá a obtener los sets de prueba y test como se muestra a continuación."
   ]
  },
  {
   "cell_type": "code",
   "execution_count": 11,
   "metadata": {},
   "outputs": [],
   "source": [
    "X_train, X_test, Y_train, Y_test, Y2_train, Y2_test = train_test_split(Features, Label, Label2, random_state=27)"
   ]
  },
  {
   "cell_type": "markdown",
   "metadata": {},
   "source": [
    "Una vez tenemos nuestros sets de entrenamiento y test listos se procede a la exploración de los diferentes métodos. Por las características de los datos del set se preferirá utilizar métodos de clasificación."
   ]
  },
  {
   "cell_type": "markdown",
   "metadata": {},
   "source": [
    "Para una comparación posterior se utilizara un Frame para Resultados."
   ]
  },
  {
   "cell_type": "code",
   "execution_count": 12,
   "metadata": {},
   "outputs": [],
   "source": [
    "First=pd.DataFrame()\n",
    "Conc=pd.DataFrame()"
   ]
  },
  {
   "cell_type": "markdown",
   "metadata": {},
   "source": [
    "### 1. KNN (K-Nearest Neighbors)\n",
    "\n",
    "Este método permite clasificar los datos determinando los vecinos más cercanos para crear una línea de decisión que separe las diferentes clases.\n",
    "\n",
    "Se procede a importar la función KNeighborsClassifier. Si el set de datos fuera del tipo regresión se debería utilizar KNeighborsRegressor"
   ]
  },
  {
   "cell_type": "code",
   "execution_count": 13,
   "metadata": {},
   "outputs": [],
   "source": [
    "from sklearn.neighbors import KNeighborsClassifier"
   ]
  },
  {
   "cell_type": "markdown",
   "metadata": {},
   "source": [
    "La libreria matplotlib.pyplot permitira graficar los datos."
   ]
  },
  {
   "cell_type": "code",
   "execution_count": 14,
   "metadata": {},
   "outputs": [],
   "source": [
    "import matplotlib.pyplot as plt\n",
    "%matplotlib inline"
   ]
  },
  {
   "cell_type": "markdown",
   "metadata": {},
   "source": [
    "Se definen listas para guardar los datos de presicion y posteriormente graficarlos."
   ]
  },
  {
   "cell_type": "code",
   "execution_count": 15,
   "metadata": {},
   "outputs": [],
   "source": [
    "training_accuracy = []\n",
    "test_accuracy = []"
   ]
  },
  {
   "cell_type": "markdown",
   "metadata": {},
   "source": [
    "Se define un rango para los hiperparametros. En el caso del KNNC el hiperparametro mas relevante es el numero de vecinos a detectar."
   ]
  },
  {
   "cell_type": "code",
   "execution_count": 16,
   "metadata": {},
   "outputs": [],
   "source": [
    "neighbors_settings = range(1, 30)"
   ]
  },
  {
   "cell_type": "markdown",
   "metadata": {},
   "source": [
    "Se populan las listas de presicion con los datos de varios hiper-parametros utilizando el siguiente ciclo:"
   ]
  },
  {
   "cell_type": "code",
   "execution_count": 17,
   "metadata": {},
   "outputs": [],
   "source": [
    "for n_neighbors in neighbors_settings:\n",
    "    # se construye el modelo de clasificacion\n",
    "    clf = KNeighborsClassifier(n_neighbors=n_neighbors)\n",
    "    clf.fit(X_train, Y_train)\n",
    "    # se almacena el \"training set accuracy\"\n",
    "    training_accuracy.append(clf.score(X_train, Y_train))\n",
    "    # se almacena la \"generalization accuracy\"\n",
    "    test_accuracy.append(clf.score(X_test, Y_test))"
   ]
  },
  {
   "cell_type": "markdown",
   "metadata": {},
   "source": [
    "Usando los datos obtenidos anteriormente, se procede a graficar la precicion del entrenamiento (que tan bien funciona el modelo descrito para los datos de entrenamiento) vs la precision de la prediccion (que tan bien generaliza el modelo obtenido, las caracteristicas del set). El objetivo de la grafica es determinar el valor ideal del hiper-parametro para no tener ni overfit ni underfit."
   ]
  },
  {
   "cell_type": "code",
   "execution_count": 18,
   "metadata": {},
   "outputs": [
    {
     "data": {
      "text/plain": [
       "<matplotlib.legend.Legend at 0x1b364bbcef0>"
      ]
     },
     "execution_count": 18,
     "metadata": {},
     "output_type": "execute_result"
    },
    {
     "data": {
      "image/png": "[encoded data removed]",
      "text/plain": [
       "<Figure size 432x288 with 1 Axes>"
      ]
     },
     "metadata": {
      "needs_background": "light"
     },
     "output_type": "display_data"
    }
   ],
   "source": [
    "plt.plot(neighbors_settings, training_accuracy, label=\"training accuracy\")\n",
    "plt.plot(neighbors_settings, test_accuracy, label=\"test accuracy\")\n",
    "plt.ylabel(\"Precision\")\n",
    "plt.xlabel(\"N_neighbors\")\n",
    "plt.title(\"Precision de la prueba vs Precision del test\")\n",
    "plt.legend()"
   ]
  },
  {
   "cell_type": "markdown",
   "metadata": {},
   "source": [
    "Como se obserba los resultados son bastante malos, el mejor caso se da con 24 vecinos y no es superior a 60%."
   ]
  },
  {
   "cell_type": "code",
   "execution_count": 19,
   "metadata": {},
   "outputs": [],
   "source": [
    "KNN = KNeighborsClassifier(n_neighbors=24)\n",
    "KNN.fit(X_train, Y_train)\n",
    "KNNS=KNN.score(X_test, Y_test)\n",
    "First['KNN']=[KNNS]"
   ]
  },
  {
   "cell_type": "markdown",
   "metadata": {},
   "source": [
    "Se utilisa el mismo codigo buscando mejorar la presicion del modelo. Con este fin usaremos el Lable2 definido previamente. Se espera que al reducir las clases a 3 se logre un buen resultado, pues sera mas facil para el algoritmo diferenciarlas."
   ]
  },
  {
   "cell_type": "code",
   "execution_count": 20,
   "metadata": {},
   "outputs": [
    {
     "data": {
      "text/plain": [
       "<matplotlib.legend.Legend at 0x1b364b8e6d8>"
      ]
     },
     "execution_count": 20,
     "metadata": {},
     "output_type": "execute_result"
    },
    {
     "data": {
      "image/png": "[encoded data removed]",
      "text/plain": [
       "<Figure size 432x288 with 1 Axes>"
      ]
     },
     "metadata": {
      "needs_background": "light"
     },
     "output_type": "display_data"
    }
   ],
   "source": [
    "training_accuracy = []\n",
    "test_accuracy = []\n",
    "neighbors_settings = range(1, 12)\n",
    "for n_neighbors in neighbors_settings:\n",
    "    # se construye el modelo de clasificacion\n",
    "    clf = KNeighborsClassifier(n_neighbors=n_neighbors)\n",
    "    clf.fit(X_train, Y2_train)\n",
    "    # se almacena el \"training set accuracy\"\n",
    "    training_accuracy.append(clf.score(X_train, Y2_train))\n",
    "    # se almacena la \"generalization accuracy\"\n",
    "    test_accuracy.append(clf.score(X_test, Y2_test))\n",
    "plt.plot(neighbors_settings, training_accuracy, label=\"training accuracy\")\n",
    "plt.plot(neighbors_settings, test_accuracy, label=\"test accuracy\")\n",
    "plt.ylabel(\"Precision\")\n",
    "plt.xlabel(\"N_neighbors\")\n",
    "plt.title(\"Precision de la prueba vs Precision del test\")\n",
    "plt.legend()"
   ]
  },
  {
   "cell_type": "markdown",
   "metadata": {},
   "source": [
    "Se obserba un incremento significativo de la presicion al tener menos clases. El mejor resultado se obtiene con 10 iteraciones y es de 83%."
   ]
  },
  {
   "cell_type": "code",
   "execution_count": 21,
   "metadata": {},
   "outputs": [
    {
     "name": "stdout",
     "output_type": "stream",
     "text": [
      "Precision Test KNN: 0.830\n"
     ]
    }
   ],
   "source": [
    "KNN = KNeighborsClassifier(n_neighbors=10)\n",
    "KNN.fit(X_train, Y2_train)\n",
    "KNNS=KNN.score(X_test, Y2_test)\n",
    "print(\"Precision Test KNN: {:.3f}\".format(KNNS))"
   ]
  },
  {
   "cell_type": "markdown",
   "metadata": {},
   "source": [
    "Guardamos nuestro resultado:"
   ]
  },
  {
   "cell_type": "code",
   "execution_count": 22,
   "metadata": {},
   "outputs": [],
   "source": [
    "Conc['KNN']=[KNNS]"
   ]
  },
  {
   "cell_type": "markdown",
   "metadata": {},
   "source": [
    "### 2. Naive Baye\n",
    "\n",
    "Se procede a importar las librerias para el metodo Naive Baye (Se utiliza el Gaussian Naive Bayes). Este metodo tiene la particularidad de no requerir hiperparametros."
   ]
  },
  {
   "cell_type": "code",
   "execution_count": 23,
   "metadata": {},
   "outputs": [],
   "source": [
    "from sklearn.naive_bayes import GaussianNB"
   ]
  },
  {
   "cell_type": "markdown",
   "metadata": {},
   "source": [
    "Se procede a hacer el fit con el metodo seleccionado"
   ]
  },
  {
   "cell_type": "code",
   "execution_count": 24,
   "metadata": {},
   "outputs": [],
   "source": [
    "nbg = GaussianNB().fit(X_train, Y_train)"
   ]
  },
  {
   "cell_type": "markdown",
   "metadata": {},
   "source": [
    "Se calcula la presicion del test vs la precision de la prediccion;"
   ]
  },
  {
   "cell_type": "code",
   "execution_count": 25,
   "metadata": {},
   "outputs": [
    {
     "name": "stdout",
     "output_type": "stream",
     "text": [
      "Entrenamiento: 0.566\n",
      "Prueba: 0.585\n"
     ]
    }
   ],
   "source": [
    "print(\"Entrenamiento: {:.3f}\".format(nbg.score(X_train, Y_train)))\n",
    "print(\"Prueba: {:.3f}\".format(nbg.score(X_test, Y_test)))"
   ]
  },
  {
   "cell_type": "markdown",
   "metadata": {},
   "source": [
    "Una vez mas los resultados son bastante malos para nuestro Lable con muchas clases. Los mismos se gruardan para comparar en la seccion de conclusiones."
   ]
  },
  {
   "cell_type": "code",
   "execution_count": 26,
   "metadata": {},
   "outputs": [],
   "source": [
    "NB=nbg.score(X_test, Y_test)\n",
    "First['NB']=[NB]"
   ]
  },
  {
   "cell_type": "markdown",
   "metadata": {},
   "source": [
    "Se procede a usar el de 3 clases esperando obtener mejores resultados."
   ]
  },
  {
   "cell_type": "code",
   "execution_count": 27,
   "metadata": {},
   "outputs": [
    {
     "name": "stdout",
     "output_type": "stream",
     "text": [
      "Entrenamiento: 0.791\n",
      "Prueba: 0.800\n"
     ]
    }
   ],
   "source": [
    "nbg = GaussianNB().fit(X_train, Y2_train)\n",
    "print(\"Entrenamiento: {:.3f}\".format(nbg.score(X_train, Y2_train)))\n",
    "NB=nbg.score(X_test, Y2_test)\n",
    "print(\"Prueba: {:.3f}\".format(NB))"
   ]
  },
  {
   "cell_type": "markdown",
   "metadata": {},
   "source": [
    "Como era de esperar los resultados mejoraron significativamente sin embargo no superan a KNN."
   ]
  },
  {
   "cell_type": "markdown",
   "metadata": {},
   "source": [
    "Guardamos el resultado"
   ]
  },
  {
   "cell_type": "code",
   "execution_count": 28,
   "metadata": {},
   "outputs": [],
   "source": [
    "Conc['NB']=[NB]"
   ]
  },
  {
   "cell_type": "markdown",
   "metadata": {},
   "source": [
    "### 3. Arbol de decision:\n",
    "\n",
    "Este metodo busca organizar la informacion en un arbol de profundidad N que permita luego clasificar los resultados y realizar la prediccion. Se procede a importar el metodo."
   ]
  },
  {
   "cell_type": "code",
   "execution_count": 29,
   "metadata": {},
   "outputs": [],
   "source": [
    "from sklearn.tree import DecisionTreeClassifier"
   ]
  },
  {
   "cell_type": "markdown",
   "metadata": {},
   "source": [
    "Se utiliza un ciclo para determinar la profundidad de arbol que obtenga los mejores resultados."
   ]
  },
  {
   "cell_type": "code",
   "execution_count": 30,
   "metadata": {},
   "outputs": [],
   "source": [
    "training_accuracy = []\n",
    "test_accuracy = []\n",
    "Tree_settings=range(1,10)\n",
    "for prof in Tree_settings:\n",
    "    DecisionTreeModel = DecisionTreeClassifier(max_depth=prof)\n",
    "    DecisionTreeModel.fit(X_train, Y_train)\n",
    "    # se almacena el \"training set accuracy\"\n",
    "    training_accuracy.append(DecisionTreeModel.score(X_train, Y_train))\n",
    "    # se almacena la \"generalization accuracy\"\n",
    "    test_accuracy.append(DecisionTreeModel.score(X_test, Y_test))"
   ]
  },
  {
   "cell_type": "markdown",
   "metadata": {},
   "source": [
    "Se procede a graficar los resultados"
   ]
  },
  {
   "cell_type": "code",
   "execution_count": 31,
   "metadata": {},
   "outputs": [
    {
     "data": {
      "text/plain": [
       "<matplotlib.legend.Legend at 0x1b364d432b0>"
      ]
     },
     "execution_count": 31,
     "metadata": {},
     "output_type": "execute_result"
    },
    {
     "data": {
      "image/png": "[encoded data removed]",
      "text/plain": [
       "<Figure size 432x288 with 1 Axes>"
      ]
     },
     "metadata": {
      "needs_background": "light"
     },
     "output_type": "display_data"
    }
   ],
   "source": [
    "plt.plot(Tree_settings, training_accuracy, label=\"training accuracy\")\n",
    "plt.plot(Tree_settings, test_accuracy, label=\"test accuracy\")\n",
    "plt.ylabel(\"Precision\")\n",
    "plt.xlabel(\"Profundidad del Arbol\")\n",
    "plt.title(\"Precision de la prueba vs Precision del test\")\n",
    "plt.legend()"
   ]
  },
  {
   "cell_type": "markdown",
   "metadata": {},
   "source": [
    "Una vez mas los resultados no son muy prometedores. El mejor resultado obtenido es obtenido con una profundidad de 4 aproximadamente 60%"
   ]
  },
  {
   "cell_type": "code",
   "execution_count": 32,
   "metadata": {},
   "outputs": [],
   "source": [
    "DecisionTreeModel = DecisionTreeClassifier(max_depth=4)\n",
    "DecisionTreeModel.fit(X_train, Y_train)\n",
    "First['DT']=[DecisionTreeModel.score(X_test, Y_test)]"
   ]
  },
  {
   "cell_type": "markdown",
   "metadata": {},
   "source": [
    "Se tratara nuevamente utilizando nuestro set con menos clases."
   ]
  },
  {
   "cell_type": "code",
   "execution_count": 33,
   "metadata": {},
   "outputs": [
    {
     "data": {
      "text/plain": [
       "<matplotlib.legend.Legend at 0x1b364cdc0f0>"
      ]
     },
     "execution_count": 33,
     "metadata": {},
     "output_type": "execute_result"
    },
    {
     "data": {
      "image/png": "[encoded data removed]",
      "text/plain": [
       "<Figure size 432x288 with 1 Axes>"
      ]
     },
     "metadata": {
      "needs_background": "light"
     },
     "output_type": "display_data"
    }
   ],
   "source": [
    "training_accuracy = []\n",
    "test_accuracy = []\n",
    "Tree_settings=range(1,10)\n",
    "for prof in Tree_settings:\n",
    "    DecisionTreeModel = DecisionTreeClassifier(max_depth=prof)\n",
    "    DecisionTreeModel.fit(X_train, Y2_train)\n",
    "    # se almacena el \"training set accuracy\"\n",
    "    training_accuracy.append(DecisionTreeModel.score(X_train, Y2_train))\n",
    "    # se almacena la \"generalization accuracy\"\n",
    "    test_accuracy.append(DecisionTreeModel.score(X_test, Y2_test))\n",
    "plt.plot(Tree_settings, training_accuracy, label=\"training accuracy\")\n",
    "plt.plot(Tree_settings, test_accuracy, label=\"test accuracy\")\n",
    "plt.ylabel(\"Precision\")\n",
    "plt.xlabel(\"Profundidad del Arbol\")\n",
    "plt.title(\"Precision de la prueba vs Precision del test\")\n",
    "plt.legend()"
   ]
  },
  {
   "cell_type": "markdown",
   "metadata": {},
   "source": [
    "Se observa una mejora significativa en la precision. El mejor resultado se obtiene con una profundidad de 3 y se obtiene aproximadamente 85% de precision."
   ]
  },
  {
   "cell_type": "code",
   "execution_count": 34,
   "metadata": {},
   "outputs": [
    {
     "name": "stdout",
     "output_type": "stream",
     "text": [
      "Mejor porcentaje de prediccion prediccion: 0.858\n"
     ]
    }
   ],
   "source": [
    "DecisionTreeModel = DecisionTreeClassifier(max_depth=3)\n",
    "DecisionTreeModel.fit(X_train, Y2_train)\n",
    "DT=DecisionTreeModel.score(X_test, Y2_test)\n",
    "print(\"Mejor porcentaje de prediccion prediccion: {:.3f}\".format(DT))"
   ]
  },
  {
   "cell_type": "markdown",
   "metadata": {},
   "source": [
    "Guardamos el resultado"
   ]
  },
  {
   "cell_type": "code",
   "execution_count": 35,
   "metadata": {},
   "outputs": [],
   "source": [
    "Conc['DT']=[DT]"
   ]
  },
  {
   "cell_type": "markdown",
   "metadata": {},
   "source": [
    "Algo interesante que se puede hacer con los arboles de Decision es visualizarlo de forma grafica para asi determinar la importancia que asigna a cada feature. Para ello utilizamos la siguente funcion."
   ]
  },
  {
   "cell_type": "code",
   "execution_count": 36,
   "metadata": {},
   "outputs": [
    {
     "data": {
      "image/png": "[encoded data removed]",
      "text/plain": [
       "<Figure size 432x288 with 1 Axes>"
      ]
     },
     "metadata": {
      "needs_background": "light"
     },
     "output_type": "display_data"
    }
   ],
   "source": [
    "def plot_feature_importances(model):\n",
    "    n_features = Features.shape[1]\n",
    "    plt.barh(range(n_features), model.feature_importances_, align='center')\n",
    "    plt.yticks(np.arange(n_features), Features)\n",
    "    plt.xlabel(\"Feature importance\")\n",
    "    plt.ylabel(\"Feature\")\n",
    "    \n",
    "plot_feature_importances(DecisionTreeModel)"
   ]
  },
  {
   "cell_type": "markdown",
   "metadata": {},
   "source": [
    "Podemos observar que el algoritmo determino que el alcohol tiene gran relevancia en la calidad del vino"
   ]
  },
  {
   "cell_type": "markdown",
   "metadata": {},
   "source": [
    "### 4. Random Forest:\n",
    "Este metodo es del tipo ensamble utiliza se basa en el metodo de arboles de decision para luego estimar mediante una votacion (por ser el caso de clasificacion) la mayoria gana. Procedemos a importar el modelo:"
   ]
  },
  {
   "cell_type": "code",
   "execution_count": 37,
   "metadata": {},
   "outputs": [],
   "source": [
    "from sklearn.ensemble import RandomForestClassifier"
   ]
  },
  {
   "cell_type": "markdown",
   "metadata": {},
   "source": [
    "Para este caso el hiperparametro de mayor interes es el numero de estimadores que esta relacionado de manera directa con el numero de arboles que se usaran. Para ello usaremos el siguiente ciclo:"
   ]
  },
  {
   "cell_type": "code",
   "execution_count": 38,
   "metadata": {},
   "outputs": [],
   "source": [
    "training_accuracy = []\n",
    "test_accuracy = []\n",
    "Tree_settings=range(1,25)\n",
    "for nestimator in Tree_settings:\n",
    "    RFModel = RandomForestClassifier(n_estimators=nestimator)\n",
    "    RFModel.fit(X_train, Y_train)\n",
    "    # se almacena el \"training set accuracy\"\n",
    "    training_accuracy.append(RFModel.score(X_train, Y_train))\n",
    "    # se almacena la \"generalization accuracy\"\n",
    "    test_accuracy.append(RFModel.score(X_test, Y_test))"
   ]
  },
  {
   "cell_type": "markdown",
   "metadata": {},
   "source": [
    "Y ahora se grafican los resultados"
   ]
  },
  {
   "cell_type": "code",
   "execution_count": 39,
   "metadata": {},
   "outputs": [
    {
     "data": {
      "text/plain": [
       "<matplotlib.legend.Legend at 0x1b364f25cc0>"
      ]
     },
     "execution_count": 39,
     "metadata": {},
     "output_type": "execute_result"
    },
    {
     "data": {
      "image/png": "[encoded data removed]",
      "text/plain": [
       "<Figure size 432x288 with 1 Axes>"
      ]
     },
     "metadata": {
      "needs_background": "light"
     },
     "output_type": "display_data"
    }
   ],
   "source": [
    "plt.plot(Tree_settings, training_accuracy, label=\"training accuracy\")\n",
    "plt.plot(Tree_settings, test_accuracy, label=\"test accuracy\")\n",
    "plt.ylabel(\"Precision\")\n",
    "plt.xlabel(\"Cantidad de estimadores\")\n",
    "plt.title(\"Precision de la prueba vs Precision del test\")\n",
    "plt.legend()"
   ]
  },
  {
   "cell_type": "markdown",
   "metadata": {},
   "source": [
    "Se observa que para este metodo en especifico la presiccion de la prediccion mejora con respecto a un Arbol de decision sin embargo se tiene overfit en todo el rango."
   ]
  },
  {
   "cell_type": "code",
   "execution_count": 40,
   "metadata": {},
   "outputs": [],
   "source": [
    "RFModel = RandomForestClassifier(n_estimators=15)\n",
    "RFModel.fit(X_train, Y_train)\n",
    "First['RF']=[RFModel.score(X_test, Y_test)]"
   ]
  },
  {
   "cell_type": "markdown",
   "metadata": {},
   "source": [
    "Provaremos con el set de menos clases"
   ]
  },
  {
   "cell_type": "code",
   "execution_count": 41,
   "metadata": {},
   "outputs": [
    {
     "data": {
      "text/plain": [
       "<matplotlib.legend.Legend at 0x1b364fb3470>"
      ]
     },
     "execution_count": 41,
     "metadata": {},
     "output_type": "execute_result"
    },
    {
     "data": {
      "image/png": "[encoded data removed]",
      "text/plain": [
       "<Figure size 432x288 with 1 Axes>"
      ]
     },
     "metadata": {
      "needs_background": "light"
     },
     "output_type": "display_data"
    }
   ],
   "source": [
    "training_accuracy = []\n",
    "test_accuracy = []\n",
    "Tree_settings=range(1,15)\n",
    "for nestimator in Tree_settings:\n",
    "    RFModel = RandomForestClassifier(n_estimators=nestimator)\n",
    "    RFModel.fit(X_train, Y2_train)\n",
    "    # se almacena el \"training set accuracy\"\n",
    "    training_accuracy.append(RFModel.score(X_train, Y2_train))\n",
    "    # se almacena la \"generalization accuracy\"\n",
    "    test_accuracy.append(RFModel.score(X_test, Y2_test))\n",
    "plt.plot(Tree_settings, training_accuracy, label=\"training accuracy\")\n",
    "plt.plot(Tree_settings, test_accuracy, label=\"test accuracy\")\n",
    "plt.ylabel(\"Precision\")\n",
    "plt.xlabel(\"Cantidad de estimadores\")\n",
    "plt.title(\"Precision de la prueba vs Precision del test\")\n",
    "plt.legend()"
   ]
  },
  {
   "cell_type": "markdown",
   "metadata": {},
   "source": [
    "Con 13 estimadores se obtiene el mejor resultado en la prediccion, un valor muy cercano a 86%% pero se sigue teniendo lo que se consideraria overfit. Parece que esta es una propiedad del test y que la comparacion entre la presicion del test y del training no es la mejor forma de evaluar a este metodo particular."
   ]
  },
  {
   "cell_type": "markdown",
   "metadata": {},
   "source": [
    "#### Metodos de ensamble:\n",
    "Los metodos de ensamble se basan en la idea de crear varios modelos distintos y posteriormente ponerlos a votar. La filosofia es similar a una democracia pues lo que diga la mayoria es es lo que se decide. Cada uno de estos modelos pequeños se conoce con el nombre de estimador y el conjunto de estimadores es lo que se conoce como ensamble. El objetivo es que cada estimador de su aporte al conjunto alcanzando en general niveles mas altos de precision."
   ]
  },
  {
   "cell_type": "code",
   "execution_count": 42,
   "metadata": {},
   "outputs": [
    {
     "name": "stdout",
     "output_type": "stream",
     "text": [
      "Mejor porcentaje de prediccion prediccion: 0.858\n"
     ]
    }
   ],
   "source": [
    "RFModel = RandomForestClassifier(n_estimators=13)\n",
    "RFModel.fit(X_train, Y2_train)\n",
    "RF=DecisionTreeModel.score(X_test, Y2_test)\n",
    "print(\"Mejor porcentaje de prediccion prediccion: {:.3f}\".format(RF))"
   ]
  },
  {
   "cell_type": "markdown",
   "metadata": {},
   "source": [
    "Guardamos el resultado"
   ]
  },
  {
   "cell_type": "code",
   "execution_count": 43,
   "metadata": {},
   "outputs": [],
   "source": [
    "Conc['RF']=[RF]"
   ]
  },
  {
   "cell_type": "markdown",
   "metadata": {},
   "source": [
    "Nos gustaria ver la importancia asignada a cada valor para ello usaremos la funcion que definimos en el punto anterior."
   ]
  },
  {
   "cell_type": "code",
   "execution_count": 44,
   "metadata": {},
   "outputs": [
    {
     "data": {
      "image/png": "[encoded data removed]",
      "text/plain": [
       "<Figure size 432x288 with 1 Axes>"
      ]
     },
     "metadata": {
      "needs_background": "light"
     },
     "output_type": "display_data"
    }
   ],
   "source": [
    "plot_feature_importances(RFModel)"
   ]
  },
  {
   "cell_type": "markdown",
   "metadata": {},
   "source": [
    "Se obserba que la sensacion de alcohol y la acidez del vino son factores gran importancia de la misma forma que en el metodo de Arbol de decision pero en este caso el resto de los Features tambien juegan un rol importante en la clasificacion."
   ]
  },
  {
   "cell_type": "markdown",
   "metadata": {},
   "source": [
    "### 5. AdaBost:\n",
    "Este metodo de la clase ensamble busca hacer un primer fit con los datos y a partir de los resultados que fallan busca ajustar los pesos de forma que se aumente la presicion."
   ]
  },
  {
   "cell_type": "markdown",
   "metadata": {},
   "source": [
    "Procederemos a importar el metodo"
   ]
  },
  {
   "cell_type": "code",
   "execution_count": 45,
   "metadata": {},
   "outputs": [],
   "source": [
    "from sklearn.ensemble import AdaBoostClassifier"
   ]
  },
  {
   "cell_type": "markdown",
   "metadata": {},
   "source": [
    "Buscaremos el mejor fit variando el hiperparametro que define el numero de estimadores de forma similar a como se hizo con el Random Forest"
   ]
  },
  {
   "cell_type": "code",
   "execution_count": 46,
   "metadata": {},
   "outputs": [],
   "source": [
    "training_accuracy = []\n",
    "test_accuracy = []\n",
    "Ada_settings=range(1,10)\n",
    "for nestimator in Ada_settings:\n",
    "    ABModel = AdaBoostClassifier(n_estimators=nestimator)\n",
    "    ABModel.fit(X_train, Y_train)\n",
    "    # se almacena el \"training set accuracy\"\n",
    "    training_accuracy.append(ABModel.score(X_train, Y_train))\n",
    "    # se almacena la \"generalization accuracy\"\n",
    "    test_accuracy.append(ABModel.score(X_test, Y_test))"
   ]
  },
  {
   "cell_type": "markdown",
   "metadata": {},
   "source": [
    "Se procede a graficar los resultados:"
   ]
  },
  {
   "cell_type": "code",
   "execution_count": 47,
   "metadata": {},
   "outputs": [
    {
     "data": {
      "text/plain": [
       "<matplotlib.legend.Legend at 0x1b362b23cc0>"
      ]
     },
     "execution_count": 47,
     "metadata": {},
     "output_type": "execute_result"
    },
    {
     "data": {
      "image/png": "[encoded data removed]",
      "text/plain": [
       "<Figure size 432x288 with 1 Axes>"
      ]
     },
     "metadata": {
      "needs_background": "light"
     },
     "output_type": "display_data"
    }
   ],
   "source": [
    "plt.plot(Ada_settings, training_accuracy, label=\"training accuracy\")\n",
    "plt.plot(Ada_settings, test_accuracy, label=\"test accuracy\")\n",
    "plt.ylabel(\"Precision\")\n",
    "plt.xlabel(\"Cantidad de estimadores\")\n",
    "plt.title(\"Precision de la prueba vs Precision del test\")\n",
    "plt.legend()"
   ]
  },
  {
   "cell_type": "markdown",
   "metadata": {},
   "source": [
    "Los resultados son bastante malos. El mejor fue obtenido con 2 estimadores."
   ]
  },
  {
   "cell_type": "code",
   "execution_count": 48,
   "metadata": {},
   "outputs": [],
   "source": [
    "ABModel = AdaBoostClassifier(n_estimators=2)\n",
    "ABModel.fit(X_train, Y_train)\n",
    "First['AB']=[ABModel.score(X_test, Y_test)]"
   ]
  },
  {
   "cell_type": "markdown",
   "metadata": {},
   "source": [
    "Se procede a probar con nuestro set con menos clases."
   ]
  },
  {
   "cell_type": "code",
   "execution_count": 49,
   "metadata": {},
   "outputs": [
    {
     "data": {
      "text/plain": [
       "<matplotlib.legend.Legend at 0x1b36499a9b0>"
      ]
     },
     "execution_count": 49,
     "metadata": {},
     "output_type": "execute_result"
    },
    {
     "data": {
      "image/png": "[encoded data removed]",
      "text/plain": [
       "<Figure size 432x288 with 1 Axes>"
      ]
     },
     "metadata": {
      "needs_background": "light"
     },
     "output_type": "display_data"
    }
   ],
   "source": [
    "training_accuracy = []\n",
    "test_accuracy = []\n",
    "Ada_settings=range(1,10)\n",
    "for nestimator in Ada_settings:\n",
    "    ABModel = AdaBoostClassifier(n_estimators=nestimator)\n",
    "    ABModel.fit(X_train, Y2_train)\n",
    "    # se almacena el \"training set accuracy\"\n",
    "    training_accuracy.append(ABModel.score(X_train, Y2_train))\n",
    "    # se almacena la \"generalization accuracy\"\n",
    "    test_accuracy.append(ABModel.score(X_test, Y2_test))\n",
    "plt.plot(Ada_settings, training_accuracy, label=\"training accuracy\")\n",
    "plt.plot(Ada_settings, test_accuracy, label=\"test accuracy\")\n",
    "plt.ylabel(\"Precision\")\n",
    "plt.xlabel(\"Cantidad de estimadores\")\n",
    "plt.title(\"Precision de la prueba vs Precision del test\")\n",
    "plt.legend()"
   ]
  },
  {
   "cell_type": "markdown",
   "metadata": {},
   "source": [
    "Como se observa el mejor resultado fue obtenido en este caso con 5 estimadores y fue de 83.5%"
   ]
  },
  {
   "cell_type": "code",
   "execution_count": 50,
   "metadata": {},
   "outputs": [
    {
     "name": "stdout",
     "output_type": "stream",
     "text": [
      "Mejor porcentaje de prediccion prediccion: 0.835\n"
     ]
    }
   ],
   "source": [
    "ABModel = AdaBoostClassifier(n_estimators=nestimator)\n",
    "ABModel.fit(X_train, Y2_train)\n",
    "AB=ABModel.score(X_test, Y2_test)\n",
    "print (\"Mejor porcentaje de prediccion prediccion: {:.3f}\".format(AB))"
   ]
  },
  {
   "cell_type": "markdown",
   "metadata": {},
   "source": [
    "Guardamos el resultado"
   ]
  },
  {
   "cell_type": "code",
   "execution_count": 51,
   "metadata": {},
   "outputs": [],
   "source": [
    "Conc['AB']=[AB]"
   ]
  },
  {
   "cell_type": "markdown",
   "metadata": {},
   "source": [
    "Para ver que pesos asigna utilizaremos nuestro algoritmo previamente definido:"
   ]
  },
  {
   "cell_type": "code",
   "execution_count": 52,
   "metadata": {},
   "outputs": [
    {
     "data": {
      "image/png": "[encoded data removed]",
      "text/plain": [
       "<Figure size 432x288 with 1 Axes>"
      ]
     },
     "metadata": {
      "needs_background": "light"
     },
     "output_type": "display_data"
    }
   ],
   "source": [
    "plot_feature_importances(ABModel)"
   ]
  },
  {
   "cell_type": "markdown",
   "metadata": {},
   "source": [
    "### 6. BaggingClassifier:\n",
    "Este metodo de ensamble separa la informacion en un numero dado de subsets y posteriormente predice en base a la respuesta de los distintos grupos. Para el metodo de clasificacion se hace una votacion."
   ]
  },
  {
   "cell_type": "markdown",
   "metadata": {},
   "source": [
    "Se procede a importar el metodo"
   ]
  },
  {
   "cell_type": "code",
   "execution_count": 53,
   "metadata": {},
   "outputs": [],
   "source": [
    "from sklearn.ensemble import BaggingClassifier"
   ]
  },
  {
   "cell_type": "markdown",
   "metadata": {},
   "source": [
    "Una vez mas buscaremos el mejor fit variando uno de los hiperparametros en este caso el numero de estimadores."
   ]
  },
  {
   "cell_type": "code",
   "execution_count": 54,
   "metadata": {},
   "outputs": [],
   "source": [
    "training_accuracy = []\n",
    "test_accuracy = []\n",
    "BC_settings=range(1,25)\n",
    "for nestimator in BC_settings:\n",
    "    BCModel = BaggingClassifier(n_estimators=nestimator)\n",
    "    BCModel.fit(X_train, Y_train)\n",
    "    # se almacena el \"training set accuracy\"\n",
    "    training_accuracy.append(BCModel.score(X_train, Y_train))\n",
    "    # se almacena la \"generalization accuracy\"\n",
    "    test_accuracy.append(BCModel.score(X_test, Y_test))"
   ]
  },
  {
   "cell_type": "code",
   "execution_count": 55,
   "metadata": {},
   "outputs": [
    {
     "data": {
      "text/plain": [
       "<matplotlib.legend.Legend at 0x1b36499a668>"
      ]
     },
     "execution_count": 55,
     "metadata": {},
     "output_type": "execute_result"
    },
    {
     "data": {
      "image/png": "[encoded data removed]",
      "text/plain": [
       "<Figure size 432x288 with 1 Axes>"
      ]
     },
     "metadata": {
      "needs_background": "light"
     },
     "output_type": "display_data"
    }
   ],
   "source": [
    "plt.plot(BC_settings, training_accuracy, label=\"training accuracy\")\n",
    "plt.plot(BC_settings, test_accuracy, label=\"test accuracy\")\n",
    "plt.ylabel(\"Precision\")\n",
    "plt.xlabel(\"Cantidad de estimadores\")\n",
    "plt.title(\"Precision de la prueba vs Precision del test\")\n",
    "plt.legend()"
   ]
  },
  {
   "cell_type": "markdown",
   "metadata": {},
   "source": [
    " Utilizando 10 estimadores se logra aproximadamente un 70% de presicion en la prueba pero se tiene overfit."
   ]
  },
  {
   "cell_type": "code",
   "execution_count": 56,
   "metadata": {},
   "outputs": [],
   "source": [
    "BCModel = BaggingClassifier(n_estimators=2)\n",
    "BCModel.fit(X_train, Y_train)\n",
    "First['BC']=[BCModel.score(X_test, Y_test)]"
   ]
  },
  {
   "cell_type": "markdown",
   "metadata": {},
   "source": [
    " Procederemos a probar nuestro set de 3 clases con el fin de ver si es posible obtener mejores resultados:"
   ]
  },
  {
   "cell_type": "code",
   "execution_count": 57,
   "metadata": {},
   "outputs": [
    {
     "data": {
      "text/plain": [
       "<matplotlib.legend.Legend at 0x1b36508af60>"
      ]
     },
     "execution_count": 57,
     "metadata": {},
     "output_type": "execute_result"
    },
    {
     "data": {
      "image/png": "[encoded data removed]",
      "text/plain": [
       "<Figure size 432x288 with 1 Axes>"
      ]
     },
     "metadata": {
      "needs_background": "light"
     },
     "output_type": "display_data"
    }
   ],
   "source": [
    "training_accuracy = []\n",
    "test_accuracy = []\n",
    "BC_settings=range(1,20)\n",
    "for nestimator in BC_settings:\n",
    "    BCModel = BaggingClassifier(n_estimators=nestimator)\n",
    "    BCModel.fit(X_train, Y2_train)\n",
    "    # se almacena el \"training set accuracy\"\n",
    "    training_accuracy.append(BCModel.score(X_train, Y2_train))\n",
    "    # se almacena la \"generalization accuracy\"\n",
    "    test_accuracy.append(BCModel.score(X_test, Y2_test))\n",
    "plt.plot(BC_settings, training_accuracy, label=\"training accuracy\")\n",
    "plt.plot(BC_settings, test_accuracy, label=\"test accuracy\")\n",
    "plt.ylabel(\"Precision\")\n",
    "plt.xlabel(\"Cantidad de estimadores\")\n",
    "plt.title(\"Precision de la prueba vs Precision del test\")\n",
    "plt.legend()"
   ]
  },
  {
   "cell_type": "markdown",
   "metadata": {},
   "source": [
    "El mejor fit se obtiene con 17 estimadores como se observa a continuacion."
   ]
  },
  {
   "cell_type": "code",
   "execution_count": 58,
   "metadata": {},
   "outputs": [
    {
     "name": "stdout",
     "output_type": "stream",
     "text": [
      "Mejor porcentaje de prediccion prediccion: 0.875\n"
     ]
    }
   ],
   "source": [
    "BCModel = BaggingClassifier(n_estimators=17)\n",
    "BCModel.fit(X_train, Y2_train)\n",
    "BC=BCModel.score(X_test, Y2_test)\n",
    "print (\"Mejor porcentaje de prediccion prediccion: {:.3f}\".format(BC))"
   ]
  },
  {
   "cell_type": "markdown",
   "metadata": {},
   "source": [
    "Guardamos el resultado"
   ]
  },
  {
   "cell_type": "code",
   "execution_count": 59,
   "metadata": {},
   "outputs": [],
   "source": [
    "Conc['BC']=[BC]"
   ]
  },
  {
   "cell_type": "markdown",
   "metadata": {},
   "source": [
    "## Comparaciones y conclusiones\n",
    "\n",
    "En esta sección utilizaremos nuestros resultados obtenidos para discutir las capacidades y limitaciones de los sets de datos utilizados.\n",
    "\n",
    "Primeramente, procederemos a imprimir nuestra matriz con los resultados de predicción."
   ]
  },
  {
   "cell_type": "code",
   "execution_count": 60,
   "metadata": {},
   "outputs": [
    {
     "data": {
      "text/plain": [
       "<Figure size 1080x720 with 0 Axes>"
      ]
     },
     "metadata": {},
     "output_type": "display_data"
    },
    {
     "data": {
      "image/png": "[encoded data removed]",
      "text/plain": [
       "<Figure size 432x288 with 1 Axes>"
      ]
     },
     "metadata": {
      "needs_background": "light"
     },
     "output_type": "display_data"
    }
   ],
   "source": [
    "figure1=plt.figure(figsize=(15,10)) #(X,Y) pixeles\n",
    "First.plot(kind='bar', alpha=1, table=True)\n",
    "plt.title('Mejor precision obtenida para set de de muchas clases')\n",
    "plt.show()"
   ]
  },
  {
   "cell_type": "code",
   "execution_count": 61,
   "metadata": {},
   "outputs": [
    {
     "data": {
      "text/plain": [
       "<Figure size 1080x720 with 0 Axes>"
      ]
     },
     "metadata": {},
     "output_type": "display_data"
    },
    {
     "data": {
      "image/png": "[encoded data removed]",
      "text/plain": [
       "<Figure size 432x288 with 1 Axes>"
      ]
     },
     "metadata": {
      "needs_background": "light"
     },
     "output_type": "display_data"
    }
   ],
   "source": [
    "figure1=plt.figure(figsize=(15,10)) #(X,Y) pixeles\n",
    "Conc.plot(kind='bar', alpha=1, table=True)\n",
    "plt.title('Mejor precision obtenida para set de 3 clases')\n",
    "plt.show()"
   ]
  },
  {
   "cell_type": "markdown",
   "metadata": {},
   "source": [
    "Se observa que el metodo Random Forest obtuvo por mucho la mayor puntuación para el set de muchas clases acercándose al 70% mientras que al reducir la cantidad de clases en relación otros métodos empiezan a aumentar su precisión. Para nuestro set con 3 clases el método de Bagging incluso llega a superar al Random Forest."
   ]
  },
  {
   "cell_type": "markdown",
   "metadata": {},
   "source": [
    "Parece que los métodos de ensamble tienen un pseudo overfit por lo que otras formas de evaluación deben ser aplicadas"
   ]
  },
  {
   "cell_type": "markdown",
   "metadata": {},
   "source": [
    "Para este set en particular los métodos aplicados fueron de clasificación, pero ver el problema como uno de regresión podría arrojar resultados distintos."
   ]
  },
  {
   "cell_type": "code",
   "execution_count": null,
   "metadata": {},
   "outputs": [],
   "source": []
  }
 ],
 "metadata": {
  "kernelspec": {
   "display_name": "Python 3",
   "language": "python",
   "name": "python3"
  },
  "language_info": {
   "codemirror_mode": {
    "name": "ipython",
    "version": 3
   },
   "file_extension": ".py",
   "mimetype": "text/x-python",
   "name": "python",
   "nbconvert_exporter": "python",
   "pygments_lexer": "ipython3",
   "version": "3.7.3"
  }
 },
 "nbformat": 4,
 "nbformat_minor": 2
}
