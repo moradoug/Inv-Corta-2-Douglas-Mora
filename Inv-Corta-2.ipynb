{
 "cells": [
  {
   "cell_type": "markdown",
   "metadata": {},
   "source": [
    "## Instituto Tecnológico de Costa Rica\n",
    "## Escuela de Ingeniería Electrónica\n",
    "## Maestría en Electrónica\n",
    "## MP-6122 Reconocimiento de Patrones\n",
    "## Investigación Corta 2 - Aprendizaje Supervisado\n",
    "## Douglas Mora Ceciliano\n",
    "#\n",
    "### Escogiendo un set de datos:\n",
    "Para esta investigacion se eligio el set de datos openpowerlifting.csv\n",
    "Dado su gran tamaño se procede a limpiarlo un poco en Excel previamente se procede a eliminar las columnas que no siguen las reglas estandar: Deadlift4Kg, Bench4Kg, Squat4Kg\n",
    "\n",
    "Fuente: https://www.kaggle.com/open-powerlifting/powerlifting-database/downloads/powerlifting-database.zip/2#openpowerlifting.csv\n",
    "\n",
    "El archivo resultante se encuentra en este Github, el mismo se carga a continuacion:"
   ]
  },
  {
   "cell_type": "code",
   "execution_count": 1239,
   "metadata": {},
   "outputs": [],
   "source": [
    "import numpy as np\n",
    "import pandas as pd\n",
    "Frame=pd.read_csv('openpowerlifting.csv')"
   ]
  },
  {
   "cell_type": "markdown",
   "metadata": {},
   "source": [
    "### Etapa de preprocesado\n",
    "\n",
    "Con el fin de obtener mejores resultados se procede a preprocesar los datos"
   ]
  },
  {
   "cell_type": "markdown",
   "metadata": {},
   "source": [
    "#### Determinando tamaño del set de datos\n",
    "A continuacion se utiliza la funcion shape() para determinar el tamaño de nuestro set de datos."
   ]
  },
  {
   "cell_type": "code",
   "execution_count": 1240,
   "metadata": {},
   "outputs": [
    {
     "name": "stdout",
     "output_type": "stream",
     "text": [
      " Filas Columnas\n",
      "(1048575, 25)\n"
     ]
    }
   ],
   "source": [
    "print (' Filas Columnas')\n",
    "print (Frame.shape)"
   ]
  },
  {
   "cell_type": "markdown",
   "metadata": {},
   "source": [
    "### Seleccionando los Features\n",
    "\n",
    "Utilizaremos el codigo head para determinar el nombre de las columnas en nuestro set."
   ]
  },
  {
   "cell_type": "code",
   "execution_count": 1241,
   "metadata": {},
   "outputs": [
    {
     "data": {
      "text/html": [
       "<div>\n",
       "<style scoped>\n",
       "    .dataframe tbody tr th:only-of-type {\n",
       "        vertical-align: middle;\n",
       "    }\n",
       "\n",
       "    .dataframe tbody tr th {\n",
       "        vertical-align: top;\n",
       "    }\n",
       "\n",
       "    .dataframe thead th {\n",
       "        text-align: right;\n",
       "    }\n",
       "</style>\n",
       "<table border=\"1\" class=\"dataframe\">\n",
       "  <thead>\n",
       "    <tr style=\"text-align: right;\">\n",
       "      <th></th>\n",
       "      <th>Sex</th>\n",
       "      <th>Event</th>\n",
       "      <th>Equipment</th>\n",
       "      <th>Age</th>\n",
       "      <th>BodyweightKg</th>\n",
       "      <th>WeightClassKg</th>\n",
       "      <th>Squat1Kg</th>\n",
       "      <th>Squat2Kg</th>\n",
       "      <th>Squat3Kg</th>\n",
       "      <th>Best3SquatKg</th>\n",
       "      <th>...</th>\n",
       "      <th>Deadlift2Kg</th>\n",
       "      <th>Deadlift3Kg</th>\n",
       "      <th>Best3DeadliftKg</th>\n",
       "      <th>TotalKg</th>\n",
       "      <th>Place</th>\n",
       "      <th>Wilks</th>\n",
       "      <th>McCulloch</th>\n",
       "      <th>Glossbrenner</th>\n",
       "      <th>IPFPoints</th>\n",
       "      <th>Tested</th>\n",
       "    </tr>\n",
       "  </thead>\n",
       "  <tbody>\n",
       "    <tr>\n",
       "      <th>0</th>\n",
       "      <td>F</td>\n",
       "      <td>SBD</td>\n",
       "      <td>Wraps</td>\n",
       "      <td>29.0</td>\n",
       "      <td>59.8</td>\n",
       "      <td>60</td>\n",
       "      <td>80.0</td>\n",
       "      <td>92.5</td>\n",
       "      <td>105.0</td>\n",
       "      <td>105.0</td>\n",
       "      <td>...</td>\n",
       "      <td>120.0</td>\n",
       "      <td>130.0</td>\n",
       "      <td>130.0</td>\n",
       "      <td>290.0</td>\n",
       "      <td>4</td>\n",
       "      <td>324.16</td>\n",
       "      <td>324.16</td>\n",
       "      <td>286.42</td>\n",
       "      <td>511.15</td>\n",
       "      <td>NaN</td>\n",
       "    </tr>\n",
       "    <tr>\n",
       "      <th>1</th>\n",
       "      <td>F</td>\n",
       "      <td>SBD</td>\n",
       "      <td>Wraps</td>\n",
       "      <td>29.0</td>\n",
       "      <td>58.5</td>\n",
       "      <td>60</td>\n",
       "      <td>100.0</td>\n",
       "      <td>110.0</td>\n",
       "      <td>120.0</td>\n",
       "      <td>120.0</td>\n",
       "      <td>...</td>\n",
       "      <td>140.0</td>\n",
       "      <td>145.0</td>\n",
       "      <td>145.0</td>\n",
       "      <td>332.5</td>\n",
       "      <td>2</td>\n",
       "      <td>378.07</td>\n",
       "      <td>378.07</td>\n",
       "      <td>334.16</td>\n",
       "      <td>595.65</td>\n",
       "      <td>NaN</td>\n",
       "    </tr>\n",
       "    <tr>\n",
       "      <th>2</th>\n",
       "      <td>F</td>\n",
       "      <td>B</td>\n",
       "      <td>Raw</td>\n",
       "      <td>40.0</td>\n",
       "      <td>55.4</td>\n",
       "      <td>56</td>\n",
       "      <td>NaN</td>\n",
       "      <td>NaN</td>\n",
       "      <td>NaN</td>\n",
       "      <td>NaN</td>\n",
       "      <td>...</td>\n",
       "      <td>NaN</td>\n",
       "      <td>NaN</td>\n",
       "      <td>NaN</td>\n",
       "      <td>32.5</td>\n",
       "      <td>1</td>\n",
       "      <td>38.56</td>\n",
       "      <td>38.56</td>\n",
       "      <td>34.12</td>\n",
       "      <td>313.97</td>\n",
       "      <td>NaN</td>\n",
       "    </tr>\n",
       "    <tr>\n",
       "      <th>3</th>\n",
       "      <td>F</td>\n",
       "      <td>SBD</td>\n",
       "      <td>Wraps</td>\n",
       "      <td>23.0</td>\n",
       "      <td>60.0</td>\n",
       "      <td>60</td>\n",
       "      <td>-105.0</td>\n",
       "      <td>-105.0</td>\n",
       "      <td>105.0</td>\n",
       "      <td>105.0</td>\n",
       "      <td>...</td>\n",
       "      <td>-140.0</td>\n",
       "      <td>-140.0</td>\n",
       "      <td>132.5</td>\n",
       "      <td>310.0</td>\n",
       "      <td>3</td>\n",
       "      <td>345.61</td>\n",
       "      <td>345.61</td>\n",
       "      <td>305.37</td>\n",
       "      <td>547.04</td>\n",
       "      <td>NaN</td>\n",
       "    </tr>\n",
       "    <tr>\n",
       "      <th>4</th>\n",
       "      <td>F</td>\n",
       "      <td>SBD</td>\n",
       "      <td>Wraps</td>\n",
       "      <td>45.0</td>\n",
       "      <td>104.0</td>\n",
       "      <td>110</td>\n",
       "      <td>120.0</td>\n",
       "      <td>130.0</td>\n",
       "      <td>140.0</td>\n",
       "      <td>140.0</td>\n",
       "      <td>...</td>\n",
       "      <td>160.0</td>\n",
       "      <td>170.0</td>\n",
       "      <td>170.0</td>\n",
       "      <td>390.0</td>\n",
       "      <td>3</td>\n",
       "      <td>321.25</td>\n",
       "      <td>338.91</td>\n",
       "      <td>274.56</td>\n",
       "      <td>550.08</td>\n",
       "      <td>NaN</td>\n",
       "    </tr>\n",
       "  </tbody>\n",
       "</table>\n",
       "<p>5 rows × 25 columns</p>\n",
       "</div>"
      ],
      "text/plain": [
       "  Sex Event Equipment   Age  BodyweightKg WeightClassKg  Squat1Kg  Squat2Kg  \\\n",
       "0   F   SBD     Wraps  29.0          59.8            60      80.0      92.5   \n",
       "1   F   SBD     Wraps  29.0          58.5            60     100.0     110.0   \n",
       "2   F     B       Raw  40.0          55.4            56       NaN       NaN   \n",
       "3   F   SBD     Wraps  23.0          60.0            60    -105.0    -105.0   \n",
       "4   F   SBD     Wraps  45.0         104.0           110     120.0     130.0   \n",
       "\n",
       "   Squat3Kg  Best3SquatKg  ...  Deadlift2Kg  Deadlift3Kg  Best3DeadliftKg  \\\n",
       "0     105.0         105.0  ...        120.0        130.0            130.0   \n",
       "1     120.0         120.0  ...        140.0        145.0            145.0   \n",
       "2       NaN           NaN  ...          NaN          NaN              NaN   \n",
       "3     105.0         105.0  ...       -140.0       -140.0            132.5   \n",
       "4     140.0         140.0  ...        160.0        170.0            170.0   \n",
       "\n",
       "   TotalKg  Place   Wilks  McCulloch  Glossbrenner  IPFPoints Tested  \n",
       "0    290.0      4  324.16     324.16        286.42     511.15    NaN  \n",
       "1    332.5      2  378.07     378.07        334.16     595.65    NaN  \n",
       "2     32.5      1   38.56      38.56         34.12     313.97    NaN  \n",
       "3    310.0      3  345.61     345.61        305.37     547.04    NaN  \n",
       "4    390.0      3  321.25     338.91        274.56     550.08    NaN  \n",
       "\n",
       "[5 rows x 25 columns]"
      ]
     },
     "execution_count": 1241,
     "metadata": {},
     "output_type": "execute_result"
    }
   ],
   "source": [
    "Frame.head()"
   ]
  },
  {
   "cell_type": "markdown",
   "metadata": {},
   "source": [
    "Como se puede observar contamos con un ser de varios datos, pero cual seria una salida interesante de averiguar?\n",
    "Para este caso se buscara saber si en base a una serie de variables logramos predecir el exito o fracaso para levantar el siguiente peso. Para ello solo utilizaremos el primer ejercicio (Squat)."
   ]
  },
  {
   "cell_type": "markdown",
   "metadata": {},
   "source": [
    "Para ello seleccionaremos columnas especificas para utilizar como se muestra a continuacion"
   ]
  },
  {
   "cell_type": "code",
   "execution_count": 1242,
   "metadata": {},
   "outputs": [],
   "source": [
    "cols2use=['Sex','Event','Equipment','Age','BodyweightKg','Squat1Kg','Squat2Kg','Squat3Kg','Place']"
   ]
  },
  {
   "cell_type": "code",
   "execution_count": 1243,
   "metadata": {},
   "outputs": [
    {
     "data": {
      "text/html": [
       "<div>\n",
       "<style scoped>\n",
       "    .dataframe tbody tr th:only-of-type {\n",
       "        vertical-align: middle;\n",
       "    }\n",
       "\n",
       "    .dataframe tbody tr th {\n",
       "        vertical-align: top;\n",
       "    }\n",
       "\n",
       "    .dataframe thead th {\n",
       "        text-align: right;\n",
       "    }\n",
       "</style>\n",
       "<table border=\"1\" class=\"dataframe\">\n",
       "  <thead>\n",
       "    <tr style=\"text-align: right;\">\n",
       "      <th></th>\n",
       "      <th>Sex</th>\n",
       "      <th>Event</th>\n",
       "      <th>Equipment</th>\n",
       "      <th>Age</th>\n",
       "      <th>BodyweightKg</th>\n",
       "      <th>Squat1Kg</th>\n",
       "      <th>Squat2Kg</th>\n",
       "      <th>Squat3Kg</th>\n",
       "      <th>Place</th>\n",
       "    </tr>\n",
       "  </thead>\n",
       "  <tbody>\n",
       "    <tr>\n",
       "      <th>0</th>\n",
       "      <td>F</td>\n",
       "      <td>SBD</td>\n",
       "      <td>Wraps</td>\n",
       "      <td>29.0</td>\n",
       "      <td>59.8</td>\n",
       "      <td>80.0</td>\n",
       "      <td>92.5</td>\n",
       "      <td>105.0</td>\n",
       "      <td>4</td>\n",
       "    </tr>\n",
       "    <tr>\n",
       "      <th>1</th>\n",
       "      <td>F</td>\n",
       "      <td>SBD</td>\n",
       "      <td>Wraps</td>\n",
       "      <td>29.0</td>\n",
       "      <td>58.5</td>\n",
       "      <td>100.0</td>\n",
       "      <td>110.0</td>\n",
       "      <td>120.0</td>\n",
       "      <td>2</td>\n",
       "    </tr>\n",
       "    <tr>\n",
       "      <th>2</th>\n",
       "      <td>F</td>\n",
       "      <td>B</td>\n",
       "      <td>Raw</td>\n",
       "      <td>40.0</td>\n",
       "      <td>55.4</td>\n",
       "      <td>NaN</td>\n",
       "      <td>NaN</td>\n",
       "      <td>NaN</td>\n",
       "      <td>1</td>\n",
       "    </tr>\n",
       "    <tr>\n",
       "      <th>3</th>\n",
       "      <td>F</td>\n",
       "      <td>SBD</td>\n",
       "      <td>Wraps</td>\n",
       "      <td>23.0</td>\n",
       "      <td>60.0</td>\n",
       "      <td>-105.0</td>\n",
       "      <td>-105.0</td>\n",
       "      <td>105.0</td>\n",
       "      <td>3</td>\n",
       "    </tr>\n",
       "    <tr>\n",
       "      <th>4</th>\n",
       "      <td>F</td>\n",
       "      <td>SBD</td>\n",
       "      <td>Wraps</td>\n",
       "      <td>45.0</td>\n",
       "      <td>104.0</td>\n",
       "      <td>120.0</td>\n",
       "      <td>130.0</td>\n",
       "      <td>140.0</td>\n",
       "      <td>3</td>\n",
       "    </tr>\n",
       "  </tbody>\n",
       "</table>\n",
       "</div>"
      ],
      "text/plain": [
       "  Sex Event Equipment   Age  BodyweightKg  Squat1Kg  Squat2Kg  Squat3Kg Place\n",
       "0   F   SBD     Wraps  29.0          59.8      80.0      92.5     105.0     4\n",
       "1   F   SBD     Wraps  29.0          58.5     100.0     110.0     120.0     2\n",
       "2   F     B       Raw  40.0          55.4       NaN       NaN       NaN     1\n",
       "3   F   SBD     Wraps  23.0          60.0    -105.0    -105.0     105.0     3\n",
       "4   F   SBD     Wraps  45.0         104.0     120.0     130.0     140.0     3"
      ]
     },
     "execution_count": 1243,
     "metadata": {},
     "output_type": "execute_result"
    }
   ],
   "source": [
    "Frame=Frame[cols2use]\n",
    "Frame.head()"
   ]
  },
  {
   "cell_type": "markdown",
   "metadata": {},
   "source": [
    "Estos son entonces los datos de interes, posteriormente se agregaran mas en base a estos mismos. Pero primero se trabajaran un poco mas."
   ]
  },
  {
   "cell_type": "markdown",
   "metadata": {},
   "source": [
    "#### Limpiando Nulls\n",
    "Utilizando el siguiente codigo buscaremos identificar si hay algún valor nulo en el set."
   ]
  },
  {
   "cell_type": "code",
   "execution_count": 1244,
   "metadata": {},
   "outputs": [
    {
     "name": "stdout",
     "output_type": "stream",
     "text": [
      "Identificacion de cantidad de valores nulos\n",
      "Sex                  0\n",
      "Event                0\n",
      "Equipment            0\n",
      "Age             456899\n",
      "BodyweightKg     12690\n",
      "Squat1Kg        773627\n",
      "Squat2Kg        777139\n",
      "Squat3Kg        784616\n",
      "Place                0\n",
      "dtype: int64\n"
     ]
    }
   ],
   "source": [
    "print('Identificacion de cantidad de valores nulos')\n",
    "nNULL=Frame.isnull().sum()\n",
    "print(nNULL)"
   ]
  },
  {
   "cell_type": "markdown",
   "metadata": {},
   "source": [
    "Una vez identificados se procede a eliminar dichos valores nulos"
   ]
  },
  {
   "cell_type": "code",
   "execution_count": 1245,
   "metadata": {},
   "outputs": [
    {
     "name": "stdout",
     "output_type": "stream",
     "text": [
      "Sex             0\n",
      "Event           0\n",
      "Equipment       0\n",
      "Age             0\n",
      "BodyweightKg    0\n",
      "Squat1Kg        0\n",
      "Squat2Kg        0\n",
      "Squat3Kg        0\n",
      "Place           0\n",
      "dtype: int64\n"
     ]
    }
   ],
   "source": [
    "Frame=Frame.dropna()\n",
    "nNULL=Frame.isnull().sum()\n",
    "print(nNULL)"
   ]
  },
  {
   "cell_type": "markdown",
   "metadata": {},
   "source": [
    "Este procedimiento nos deja con una cantidad bastante menor de datos. Normalmente Eliminar los valores nulos no deberia ser la primera opcion pero tomando en cuenta el gran numero de datos se decido utilizarla."
   ]
  },
  {
   "cell_type": "code",
   "execution_count": 1246,
   "metadata": {},
   "outputs": [
    {
     "name": "stdout",
     "output_type": "stream",
     "text": [
      " Filas Columnas\n",
      "(219800, 9)\n"
     ]
    }
   ],
   "source": [
    "print (' Filas Columnas')\n",
    "print (Frame.shape)"
   ]
  },
  {
   "cell_type": "markdown",
   "metadata": {},
   "source": [
    "Nos quedamos entonces con aproximadamente 219 mil lineas. que representan la seccion de la poblacion para la cual conocemos todos los datos de interes."
   ]
  },
  {
   "cell_type": "markdown",
   "metadata": {},
   "source": [
    "#### Definiendo Features y Labels\n",
    "\n",
    "Una parte fundamental del Aprendizaje supervisado es definir los Features de los Labels. Los primeros son tanto las entradas que utilizamos para probar como para testear nuestro sistema. Mientras que los segundos se usan para entrenar y evaluar el sistema."
   ]
  },
  {
   "cell_type": "markdown",
   "metadata": {},
   "source": [
    "Como se menciono anteriormente la idea sera determinar si es posible predecir el exito en el levantamiento 3 basados en un grupo de entradas."
   ]
  },
  {
   "cell_type": "markdown",
   "metadata": {},
   "source": [
    "Sexo: Es evidente que por un factor biologico los hombres pueden llegar a levantar mas peso que las mujeres suponiendo igualdad de condiciones por lo que este factor sera tomado en cuenta. Se utilizara 1 para Hombre y 0 para Mujer."
   ]
  },
  {
   "cell_type": "code",
   "execution_count": 1247,
   "metadata": {},
   "outputs": [],
   "source": [
    "Frame['Sex']=Frame['Sex'].replace({'M':1,'F':0})"
   ]
  },
  {
   "cell_type": "markdown",
   "metadata": {},
   "source": [
    "Evento: El tipo de competecia a la cual pertenece el dato. (B=0,BD=1,D=2,S=3,SD=4,SBD=5,SD=6,SB=7)"
   ]
  },
  {
   "cell_type": "code",
   "execution_count": 1248,
   "metadata": {},
   "outputs": [],
   "source": [
    "Frame['Event']=Frame['Event'].replace({'B':0,'BD':1,'D':2,'S':3,'SD':4,'SBD':5,'SD':6,'SB':7})"
   ]
  },
  {
   "cell_type": "markdown",
   "metadata": {},
   "source": [
    "Equipo: Parte de la hipotesis es que ciertos equipos pueden afectar el desempeño. Se usara Raw=0, Wraps=1, Multi-ply=2, Single-ply=3"
   ]
  },
  {
   "cell_type": "code",
   "execution_count": 1249,
   "metadata": {},
   "outputs": [],
   "source": [
    "Frame['Equipment']=Frame['Equipment'].replace({'Raw':0, 'Wraps':1, 'Multi-ply':2, 'Single-ply':3})"
   ]
  },
  {
   "cell_type": "markdown",
   "metadata": {},
   "source": [
    "Edad: La edad es un factor que tambien sera tomado en cuenta. Se supone que un niño o adulto mayor no contaran con la capacidad fisica que un adulto en sus 20-30 años. Denuevo suponiendo igualdad de condiciones."
   ]
  },
  {
   "cell_type": "markdown",
   "metadata": {},
   "source": [
    "Peso: Se estima que el peso corporal debe estar relacionado con la cantidad de peso que se puede levantar."
   ]
  },
  {
   "cell_type": "markdown",
   "metadata": {},
   "source": [
    "Exito en Squat 1: Se tuvo exito en el levantamiento 1. 1 es un Exito y 0 es un Fallo."
   ]
  },
  {
   "cell_type": "code",
   "execution_count": 1250,
   "metadata": {},
   "outputs": [],
   "source": [
    "Frame['Success1']=Frame['Squat1Kg'].apply(lambda x: 1 if x>=0 else 0)"
   ]
  },
  {
   "cell_type": "markdown",
   "metadata": {},
   "source": [
    "Squat1: Cantidad de peso levantado en el primer squat (Se aplica valor absoluto para separar el valor levantado del signo que era la representacion del exito o el fracaso)"
   ]
  },
  {
   "cell_type": "code",
   "execution_count": 1251,
   "metadata": {},
   "outputs": [],
   "source": [
    "Frame['Squat1Kg']=Frame['Squat1Kg'].abs()"
   ]
  },
  {
   "cell_type": "markdown",
   "metadata": {},
   "source": [
    "Se hace lo mismo con el Squat2 y Squat3"
   ]
  },
  {
   "cell_type": "code",
   "execution_count": 1252,
   "metadata": {},
   "outputs": [],
   "source": [
    "Frame['Success2']=Frame['Squat2Kg'].apply(lambda x: 1 if x>=0 else 0)\n",
    "Frame['Squat2Kg']=Frame['Squat2Kg'].abs()\n",
    "Frame['Success3']=Frame['Squat3Kg'].apply(lambda x: 1 if x>=0 else 0)\n",
    "Frame['Squat3Kg']=Frame['Squat3Kg'].abs()"
   ]
  },
  {
   "cell_type": "markdown",
   "metadata": {},
   "source": [
    "El resultado se observa a continuacion:"
   ]
  },
  {
   "cell_type": "code",
   "execution_count": 1253,
   "metadata": {},
   "outputs": [
    {
     "data": {
      "text/html": [
       "<div>\n",
       "<style scoped>\n",
       "    .dataframe tbody tr th:only-of-type {\n",
       "        vertical-align: middle;\n",
       "    }\n",
       "\n",
       "    .dataframe tbody tr th {\n",
       "        vertical-align: top;\n",
       "    }\n",
       "\n",
       "    .dataframe thead th {\n",
       "        text-align: right;\n",
       "    }\n",
       "</style>\n",
       "<table border=\"1\" class=\"dataframe\">\n",
       "  <thead>\n",
       "    <tr style=\"text-align: right;\">\n",
       "      <th></th>\n",
       "      <th>Sex</th>\n",
       "      <th>Event</th>\n",
       "      <th>Equipment</th>\n",
       "      <th>Age</th>\n",
       "      <th>BodyweightKg</th>\n",
       "      <th>Squat1Kg</th>\n",
       "      <th>Squat2Kg</th>\n",
       "      <th>Squat3Kg</th>\n",
       "      <th>Place</th>\n",
       "      <th>Success1</th>\n",
       "      <th>Success2</th>\n",
       "      <th>Success3</th>\n",
       "    </tr>\n",
       "  </thead>\n",
       "  <tbody>\n",
       "    <tr>\n",
       "      <th>0</th>\n",
       "      <td>0</td>\n",
       "      <td>5</td>\n",
       "      <td>1</td>\n",
       "      <td>29.0</td>\n",
       "      <td>59.8</td>\n",
       "      <td>80.0</td>\n",
       "      <td>92.5</td>\n",
       "      <td>105.0</td>\n",
       "      <td>4</td>\n",
       "      <td>1</td>\n",
       "      <td>1</td>\n",
       "      <td>1</td>\n",
       "    </tr>\n",
       "    <tr>\n",
       "      <th>1</th>\n",
       "      <td>0</td>\n",
       "      <td>5</td>\n",
       "      <td>1</td>\n",
       "      <td>29.0</td>\n",
       "      <td>58.5</td>\n",
       "      <td>100.0</td>\n",
       "      <td>110.0</td>\n",
       "      <td>120.0</td>\n",
       "      <td>2</td>\n",
       "      <td>1</td>\n",
       "      <td>1</td>\n",
       "      <td>1</td>\n",
       "    </tr>\n",
       "    <tr>\n",
       "      <th>3</th>\n",
       "      <td>0</td>\n",
       "      <td>5</td>\n",
       "      <td>1</td>\n",
       "      <td>23.0</td>\n",
       "      <td>60.0</td>\n",
       "      <td>105.0</td>\n",
       "      <td>105.0</td>\n",
       "      <td>105.0</td>\n",
       "      <td>3</td>\n",
       "      <td>0</td>\n",
       "      <td>0</td>\n",
       "      <td>1</td>\n",
       "    </tr>\n",
       "    <tr>\n",
       "      <th>4</th>\n",
       "      <td>0</td>\n",
       "      <td>5</td>\n",
       "      <td>1</td>\n",
       "      <td>45.0</td>\n",
       "      <td>104.0</td>\n",
       "      <td>120.0</td>\n",
       "      <td>130.0</td>\n",
       "      <td>140.0</td>\n",
       "      <td>3</td>\n",
       "      <td>1</td>\n",
       "      <td>1</td>\n",
       "      <td>1</td>\n",
       "    </tr>\n",
       "    <tr>\n",
       "      <th>5</th>\n",
       "      <td>0</td>\n",
       "      <td>5</td>\n",
       "      <td>1</td>\n",
       "      <td>37.0</td>\n",
       "      <td>74.0</td>\n",
       "      <td>127.5</td>\n",
       "      <td>135.0</td>\n",
       "      <td>142.5</td>\n",
       "      <td>5</td>\n",
       "      <td>1</td>\n",
       "      <td>1</td>\n",
       "      <td>1</td>\n",
       "    </tr>\n",
       "  </tbody>\n",
       "</table>\n",
       "</div>"
      ],
      "text/plain": [
       "   Sex  Event  Equipment   Age  BodyweightKg  Squat1Kg  Squat2Kg  Squat3Kg  \\\n",
       "0    0      5          1  29.0          59.8      80.0      92.5     105.0   \n",
       "1    0      5          1  29.0          58.5     100.0     110.0     120.0   \n",
       "3    0      5          1  23.0          60.0     105.0     105.0     105.0   \n",
       "4    0      5          1  45.0         104.0     120.0     130.0     140.0   \n",
       "5    0      5          1  37.0          74.0     127.5     135.0     142.5   \n",
       "\n",
       "  Place  Success1  Success2  Success3  \n",
       "0     4         1         1         1  \n",
       "1     2         1         1         1  \n",
       "3     3         0         0         1  \n",
       "4     3         1         1         1  \n",
       "5     5         1         1         1  "
      ]
     },
     "execution_count": 1253,
     "metadata": {},
     "output_type": "execute_result"
    }
   ],
   "source": [
    "Frame.head()"
   ]
  },
  {
   "cell_type": "markdown",
   "metadata": {},
   "source": [
    "Se selecciona entonces los Features de interes."
   ]
  },
  {
   "cell_type": "code",
   "execution_count": 1254,
   "metadata": {},
   "outputs": [],
   "source": [
    "Features = Frame[['Sex','Event','Equipment','Age','BodyweightKg','Squat1Kg','Success1','Squat2Kg','Success2','Squat3Kg','Success3']]"
   ]
  },
  {
   "cell_type": "markdown",
   "metadata": {},
   "source": [
    "El Label sera la caracteristica a predecir."
   ]
  },
  {
   "cell_type": "code",
   "execution_count": 1255,
   "metadata": {},
   "outputs": [],
   "source": [
    "Label = Frame['Place']"
   ]
  },
  {
   "cell_type": "markdown",
   "metadata": {},
   "source": [
    "### Analisis a partir de multiples metodos supervisados:\n",
    "\n",
    "Se escogieron 6 metodos de aprendizaje supervisado. Para comparar sus propiedades a continuacion se muestran los resultados obtenidos para cada uno de ellos."
   ]
  },
  {
   "cell_type": "markdown",
   "metadata": {},
   "source": [
    "Antes de entrar en materia es importante comentar una caracteristica particular de este tipo de metodos es que se requiere un grupo de datos para entrenar y un grupo de datos para Testear que el entrenamiento se ha llevado a cabo con exito. Para ello utilizaremos la siguiente instruccion:"
   ]
  },
  {
   "cell_type": "code",
   "execution_count": 1256,
   "metadata": {},
   "outputs": [],
   "source": [
    "from sklearn.model_selection import train_test_split"
   ]
  },
  {
   "cell_type": "markdown",
   "metadata": {},
   "source": [
    "Separaremos entonces nuestros features y labels en dos grupos uno de test y uno de train"
   ]
  },
  {
   "cell_type": "code",
   "execution_count": 1257,
   "metadata": {},
   "outputs": [],
   "source": [
    "X_train, X_test, Y_train, Y_test = train_test_split(Features, Label, random_state=13)"
   ]
  },
  {
   "cell_type": "markdown",
   "metadata": {},
   "source": []
  },
  {
   "cell_type": "code",
   "execution_count": 1258,
   "metadata": {},
   "outputs": [],
   "source": [
    "from sklearn.tree import DecisionTreeClassifier"
   ]
  },
  {
   "cell_type": "code",
   "execution_count": 1259,
   "metadata": {},
   "outputs": [],
   "source": [
    "DecisionTreeModel = DecisionTreeClassifier(max_depth=9)"
   ]
  },
  {
   "cell_type": "code",
   "execution_count": 1260,
   "metadata": {},
   "outputs": [
    {
     "data": {
      "text/plain": [
       "DecisionTreeClassifier(class_weight=None, criterion='gini', max_depth=9,\n",
       "                       max_features=None, max_leaf_nodes=None,\n",
       "                       min_impurity_decrease=0.0, min_impurity_split=None,\n",
       "                       min_samples_leaf=1, min_samples_split=2,\n",
       "                       min_weight_fraction_leaf=0.0, presort=False,\n",
       "                       random_state=None, splitter='best')"
      ]
     },
     "execution_count": 1260,
     "metadata": {},
     "output_type": "execute_result"
    }
   ],
   "source": [
    "DecisionTreeModel.fit(X_train,Y_train)"
   ]
  },
  {
   "cell_type": "code",
   "execution_count": null,
   "metadata": {},
   "outputs": [],
   "source": []
  },
  {
   "cell_type": "code",
   "execution_count": 1261,
   "metadata": {},
   "outputs": [],
   "source": [
    "from sklearn.metrics import accuracy_score"
   ]
  },
  {
   "cell_type": "code",
   "execution_count": 1262,
   "metadata": {},
   "outputs": [],
   "source": [
    "Y_predict = DecisionTreeModel.predict(X_test)"
   ]
  },
  {
   "cell_type": "code",
   "execution_count": 1263,
   "metadata": {},
   "outputs": [
    {
     "data": {
      "text/plain": [
       "0.4089717925386715"
      ]
     },
     "execution_count": 1263,
     "metadata": {},
     "output_type": "execute_result"
    }
   ],
   "source": [
    "accuracy_score(Y_test, Y_predict)"
   ]
  },
  {
   "cell_type": "code",
   "execution_count": 1264,
   "metadata": {},
   "outputs": [],
   "source": [
    "Y_predict_t = DecisionTreeModel.predict(X_train)"
   ]
  },
  {
   "cell_type": "code",
   "execution_count": 1265,
   "metadata": {},
   "outputs": [
    {
     "data": {
      "text/plain": [
       "0.4145768880800728"
      ]
     },
     "execution_count": 1265,
     "metadata": {},
     "output_type": "execute_result"
    }
   ],
   "source": [
    "accuracy_score(Y_train, Y_predict_t)"
   ]
  },
  {
   "cell_type": "code",
   "execution_count": 1164,
   "metadata": {},
   "outputs": [
    {
     "data": {
      "text/plain": [
       "<matplotlib.legend.Legend at 0x29ef373b908>"
      ]
     },
     "execution_count": 1164,
     "metadata": {},
     "output_type": "execute_result"
    },
    {
     "data": {
      "image/png": "[encoded data removed]",
      "text/plain": [
       "<Figure size 432x288 with 1 Axes>"
      ]
     },
     "metadata": {
      "needs_background": "light"
     },
     "output_type": "display_data"
    }
   ],
   "source": [
    "from sklearn.neighbors import KNeighborsClassifier\n",
    "training_accuracy = []\n",
    "test_accuracy = []\n",
    "import matplotlib.pyplot as plt\n",
    "%matplotlib inline\n",
    "\n",
    "neighbors_settings = range(1, 11)\n",
    "for n_neighbors in neighbors_settings:\n",
    "    # se construye el modelo de clasificacion\n",
    "    clf = KNeighborsClassifier(n_neighbors=n_neighbors)\n",
    "    clf.fit(X_train, Y_train)\n",
    "    # se almacena el \"training set accuracy\"\n",
    "    training_accuracy.append(clf.score(X_train, Y_train))\n",
    "    # se almacena la \"generalization accuracy\"\n",
    "    test_accuracy.append(clf.score(X_test, Y_test))\n",
    "plt.plot(neighbors_settings, training_accuracy, label=\"training accuracy\")\n",
    "plt.plot(neighbors_settings, test_accuracy, label=\"test accuracy\")\n",
    "plt.ylabel(\"Accuracy\")\n",
    "plt.xlabel(\"n_neighbors\")\n",
    "plt.legend()"
   ]
  },
  {
   "cell_type": "code",
   "execution_count": null,
   "metadata": {},
   "outputs": [],
   "source": []
  }
 ],
 "metadata": {
  "kernelspec": {
   "display_name": "Python 3",
   "language": "python",
   "name": "python3"
  },
  "language_info": {
   "codemirror_mode": {
    "name": "ipython",
    "version": 3
   },
   "file_extension": ".py",
   "mimetype": "text/x-python",
   "name": "python",
   "nbconvert_exporter": "python",
   "pygments_lexer": "ipython3",
   "version": "3.7.3"
  }
 },
 "nbformat": 4,
 "nbformat_minor": 2
}
