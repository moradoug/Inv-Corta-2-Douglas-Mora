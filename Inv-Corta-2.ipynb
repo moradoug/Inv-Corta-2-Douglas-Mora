{
 "cells": [
  {
   "cell_type": "markdown",
   "metadata": {},
   "source": [
    "## Instituto Tecnológico de Costa Rica\n",
    "## Escuela de Ingeniería Electrónica\n",
    "## Maestría en Electrónica\n",
    "## MP-6122 Reconocimiento de Patrones\n",
    "## Investigación Corta 2 - Aprendizaje Supervisado\n",
    "## Douglas Mora Ceciliano\n",
    "#\n",
    "### Escogiendo un set de datos:\n",
    "Para esta investigacion se eligio el set de datos openpowerlifting.csv\n",
    "Dado su gran tamaño se procede a limpiarlo un poco en Excel previamente se procede a eliminar las columnas que no siguen las reglas estandar: Deadlift4Kg, Bench4Kg, Squat4Kg\n",
    "\n",
    "Fuente: https://www.kaggle.com/open-powerlifting/powerlifting-database/downloads/powerlifting-database.zip/2#openpowerlifting.csv\n",
    "\n",
    "El archivo resultante se encuentra en este Github, el mismo se carga a continuacion:"
   ]
  },
  {
   "cell_type": "code",
   "execution_count": 1038,
   "metadata": {},
   "outputs": [],
   "source": [
    "import numpy as np\n",
    "import pandas as pd\n",
    "Frame=pd.read_csv('https://drive.google.com/open?id=1usTmiRGzNHIr_AQpdCCheC-eG0wj1BoC')"
   ]
  },
  {
   "cell_type": "markdown",
   "metadata": {},
   "source": [
    "### Etapa de preprocesado\n",
    "\n",
    "Con el fin de obtener mejores resultados se procede a preprocesar los datos"
   ]
  },
  {
   "cell_type": "markdown",
   "metadata": {},
   "source": [
    "#### Determinando tamaño del set de datos\n",
    "A continuacion se utiliza la funcion shape() para determinar el tamaño de nuestro set de datos."
   ]
  },
  {
   "cell_type": "code",
   "execution_count": 1040,
   "metadata": {},
   "outputs": [
    {
     "name": "stdout",
     "output_type": "stream",
     "text": [
      " Filas Columnas\n",
      "(283, 402)\n"
     ]
    },
    {
     "data": {
      "text/html": [
       "<div>\n",
       "<style scoped>\n",
       "    .dataframe tbody tr th:only-of-type {\n",
       "        vertical-align: middle;\n",
       "    }\n",
       "\n",
       "    .dataframe tbody tr th {\n",
       "        vertical-align: top;\n",
       "    }\n",
       "\n",
       "    .dataframe thead th {\n",
       "        text-align: right;\n",
       "    }\n",
       "</style>\n",
       "<table border=\"1\" class=\"dataframe\">\n",
       "  <thead>\n",
       "    <tr style=\"text-align: right;\">\n",
       "      <th></th>\n",
       "      <th>&lt;!DOCTYPE html&gt;&lt;html&gt;&lt;head&gt;&lt;meta name=\"google\" content=\"notranslate\"&gt;&lt;meta http-equiv=\"X-UA-Compatible\" content=\"IE=edge;\"&gt;&lt;style&gt;@font-face{font-family:'Roboto';font-style:italic;font-weight:400;src:local('Roboto Italic')</th>\n",
       "      <th>local('Roboto-Italic')</th>\n",
       "      <th>url(//fonts.gstatic.com/s/roboto/v18/KFOkCnqEu92Fr1Mu51xIIzc.ttf)format('truetype');}@font-face{font-family:'Roboto';font-style:normal;font-weight:300;src:local('Roboto Light')</th>\n",
       "      <th>local('Roboto-Light')</th>\n",
       "      <th>url(//fonts.gstatic.com/s/roboto/v18/KFOlCnqEu92Fr1MmSU5fBBc9.ttf)format('truetype');}@font-face{font-family:'Roboto';font-style:normal;font-weight:400;src:local('Roboto Regular')</th>\n",
       "      <th>local('Roboto-Regular')</th>\n",
       "      <th>url(//fonts.gstatic.com/s/roboto/v18/KFOmCnqEu92Fr1Mu4mxP.ttf)format('truetype');}@font-face{font-family:'Roboto';font-style:normal;font-weight:700;src:local('Roboto Bold')</th>\n",
       "      <th>local('Roboto-Bold')</th>\n",
       "      <th>url(//fonts.gstatic.com/s/roboto/v18/KFOlCnqEu92Fr1MmWUlfBBc9.ttf)format('truetype');}&lt;/style&gt;&lt;meta name=\"referrer\" content=\"origin\"&gt;&lt;title&gt;openpowerlifting.csv - Google Drive&lt;/title&gt;&lt;meta property=\"og:title\" content=\"openpowerlifting.csv\"&gt;&lt;meta property=\"og:type\" content=\"article\"&gt;&lt;meta property=\"og:site_name\" content=\"Google Docs\"&gt;&lt;meta property=\"og:url\" content=\"https://drive.google.com/file/d/1usTmiRGzNHIr_AQpdCCheC-eG0wj1BoC/view?usp=drive_open&amp;amp;usp=embed_facebook\"&gt;&lt;link rel=\"shortcut icon\" href=\"https://ssl.gstatic.com/docs/doclist/images/icon_14_text_favicon.ico\"&gt;&lt;link href=\"https://fonts.googleapis.com/css?family=Google+Sans\" rel=stylesheet&gt;&lt;link rel=\"stylesheet\" href=\"https://www.gstatic.com/_/apps-fileview/_/ss/k=apps-fileview.v.8bs74LepFzU.L.X.O/d=0/rs=AO0039tOr1WvAwTJpbwpnfh29bM-wZ-ugg\"&gt;&lt;script&gt;_docs_flag_initialData={\"docs-ails\":\"docs_cold\"</th>\n",
       "      <th>docs-fwds:\"docs_sdf\"</th>\n",
       "      <th>...</th>\n",
       "      <th>null.33</th>\n",
       "      <th>https://www.gstatic.com/og/_/js/k=og.qtm.en_US.GZd_fXPUFh8.O/rt=j/m=q_d,qmutsd/exm=qaaw,qabr,qadd,qaid,qebr,qein,qhaw,qhbr,qhch,qhga,qhid,qhin,qhpr/d=1/ed=1/rs=AA2YrTuM1kVC9vHNdW8PLH3NtOO7suw07g]</th>\n",
       "      <th>[null.1</th>\n",
       "      <th>null.34</th>\n",
       "      <th>null.35</th>\n",
       "      <th>https://www.gstatic.com/og/_/ss/k=og.qtm.176xn6rlujucp.L.X.O/m=q_d/excm=qaaw,qabr,qadd,qaid,qebr,qein,qhaw,qhbr,qhch,qhga,qhid,qhin,qhpr/d=1/ed=1/rs=AA2YrTvnSA96AXWfs9mOvWeqHp1WTUkyUw]]</th>\n",
       "      <th>null.36</th>\n",
       "      <th>null.37</th>\n",
       "      <th>[\"\"]]]</th>\n",
       "      <th>};this.gbar_=this.gbar_||{};(function(_){var window=this;</th>\n",
       "    </tr>\n",
       "  </thead>\n",
       "  <tbody>\n",
       "    <tr>\n",
       "      <th>0</th>\n",
       "      <td>try{</td>\n",
       "      <td>NaN</td>\n",
       "      <td>NaN</td>\n",
       "      <td>NaN</td>\n",
       "      <td>NaN</td>\n",
       "      <td>NaN</td>\n",
       "      <td>NaN</td>\n",
       "      <td>NaN</td>\n",
       "      <td>NaN</td>\n",
       "      <td>NaN</td>\n",
       "      <td>...</td>\n",
       "      <td>NaN</td>\n",
       "      <td>NaN</td>\n",
       "      <td>NaN</td>\n",
       "      <td>NaN</td>\n",
       "      <td>NaN</td>\n",
       "      <td>NaN</td>\n",
       "      <td>NaN</td>\n",
       "      <td>NaN</td>\n",
       "      <td>NaN</td>\n",
       "      <td>NaN</td>\n",
       "    </tr>\n",
       "    <tr>\n",
       "      <th>1</th>\n",
       "      <td>var ba</td>\n",
       "      <td>ea</td>\n",
       "      <td>ka</td>\n",
       "      <td>la</td>\n",
       "      <td>ma</td>\n",
       "      <td>Ga</td>\n",
       "      <td>Ha</td>\n",
       "      <td>Ka</td>\n",
       "      <td>La;ba=function(a){var c=0;return function(){re...</td>\n",
       "      <td>value:a[c++]}:{done:!0}}};_.ca=function(a){var...</td>\n",
       "      <td>...</td>\n",
       "      <td>NaN</td>\n",
       "      <td>NaN</td>\n",
       "      <td>NaN</td>\n",
       "      <td>NaN</td>\n",
       "      <td>NaN</td>\n",
       "      <td>NaN</td>\n",
       "      <td>NaN</td>\n",
       "      <td>NaN</td>\n",
       "      <td>NaN</td>\n",
       "      <td>NaN</td>\n",
       "    </tr>\n",
       "    <tr>\n",
       "      <th>2</th>\n",
       "      <td>if(\"function\"==typeof Object.setPrototypeOf)ea...</td>\n",
       "      <td>ia={};try{ia.__proto__=ha;fa=ia.Pg;break a}cat...</td>\n",
       "      <td>c){a.__proto__=c;if(a.__proto__!==c)throw new ...</td>\n",
       "      <td>c</td>\n",
       "      <td>d){a!=Array.prototype&amp;&amp;a!=Object.prototype&amp;&amp;(a...</td>\n",
       "      <td>NaN</td>\n",
       "      <td>NaN</td>\n",
       "      <td>NaN</td>\n",
       "      <td>NaN</td>\n",
       "      <td>NaN</td>\n",
       "      <td>...</td>\n",
       "      <td>NaN</td>\n",
       "      <td>NaN</td>\n",
       "      <td>NaN</td>\n",
       "      <td>NaN</td>\n",
       "      <td>NaN</td>\n",
       "      <td>NaN</td>\n",
       "      <td>NaN</td>\n",
       "      <td>NaN</td>\n",
       "      <td>NaN</td>\n",
       "      <td>NaN</td>\n",
       "    </tr>\n",
       "    <tr>\n",
       "      <th>3</th>\n",
       "      <td>la=\"undefined\"!=typeof window&amp;&amp;window===this?t...</td>\n",
       "      <td>c){if(c){var d=la;a=a.split(\".\");for(var e=0;e...</td>\n",
       "      <td>a</td>\n",
       "      <td>{configurable:!0</td>\n",
       "      <td>writable:!0</td>\n",
       "      <td>value:c})}};</td>\n",
       "      <td>NaN</td>\n",
       "      <td>NaN</td>\n",
       "      <td>NaN</td>\n",
       "      <td>NaN</td>\n",
       "      <td>...</td>\n",
       "      <td>NaN</td>\n",
       "      <td>NaN</td>\n",
       "      <td>NaN</td>\n",
       "      <td>NaN</td>\n",
       "      <td>NaN</td>\n",
       "      <td>NaN</td>\n",
       "      <td>NaN</td>\n",
       "      <td>NaN</td>\n",
       "      <td>NaN</td>\n",
       "      <td>NaN</td>\n",
       "    </tr>\n",
       "    <tr>\n",
       "      <th>4</th>\n",
       "      <td>ma(\"String.prototype.startsWith\"</td>\n",
       "      <td>function(a){return a?a:function(c</td>\n",
       "      <td>d){if(null==this)throw new TypeError(\"b`starts...</td>\n",
       "      <td>f=c.length;d=Math.max(0</td>\n",
       "      <td>Math.min(d|0</td>\n",
       "      <td>this.length));for(var g=0;g&lt;f&amp;&amp;d&lt;e;)if(this[d+...</td>\n",
       "      <td>function(){return 9007199254740991});</td>\n",
       "      <td>NaN</td>\n",
       "      <td>NaN</td>\n",
       "      <td>NaN</td>\n",
       "      <td>...</td>\n",
       "      <td>NaN</td>\n",
       "      <td>NaN</td>\n",
       "      <td>NaN</td>\n",
       "      <td>NaN</td>\n",
       "      <td>NaN</td>\n",
       "      <td>NaN</td>\n",
       "      <td>NaN</td>\n",
       "      <td>NaN</td>\n",
       "      <td>NaN</td>\n",
       "      <td>NaN</td>\n",
       "    </tr>\n",
       "  </tbody>\n",
       "</table>\n",
       "<p>5 rows × 402 columns</p>\n",
       "</div>"
      ],
      "text/plain": [
       "  <!DOCTYPE html><html><head><meta name=\"google\" content=\"notranslate\"><meta http-equiv=\"X-UA-Compatible\" content=\"IE=edge;\"><style>@font-face{font-family:'Roboto';font-style:italic;font-weight:400;src:local('Roboto Italic')  \\\n",
       "0                                               try{                                                                                                                                                                               \n",
       "1                                             var ba                                                                                                                                                                               \n",
       "2  if(\"function\"==typeof Object.setPrototypeOf)ea...                                                                                                                                                                               \n",
       "3  la=\"undefined\"!=typeof window&&window===this?t...                                                                                                                                                                               \n",
       "4                   ma(\"String.prototype.startsWith\"                                                                                                                                                                               \n",
       "\n",
       "                              local('Roboto-Italic')  \\\n",
       "0                                                NaN   \n",
       "1                                                 ea   \n",
       "2  ia={};try{ia.__proto__=ha;fa=ia.Pg;break a}cat...   \n",
       "3  c){if(c){var d=la;a=a.split(\".\");for(var e=0;e...   \n",
       "4                  function(a){return a?a:function(c   \n",
       "\n",
       "  url(//fonts.gstatic.com/s/roboto/v18/KFOkCnqEu92Fr1Mu51xIIzc.ttf)format('truetype');}@font-face{font-family:'Roboto';font-style:normal;font-weight:300;src:local('Roboto Light')  \\\n",
       "0                                                NaN                                                                                                                                 \n",
       "1                                                 ka                                                                                                                                 \n",
       "2  c){a.__proto__=c;if(a.__proto__!==c)throw new ...                                                                                                                                 \n",
       "3                                                  a                                                                                                                                 \n",
       "4  d){if(null==this)throw new TypeError(\"b`starts...                                                                                                                                 \n",
       "\n",
       "     local('Roboto-Light')  \\\n",
       "0                      NaN   \n",
       "1                       la   \n",
       "2                        c   \n",
       "3         {configurable:!0   \n",
       "4  f=c.length;d=Math.max(0   \n",
       "\n",
       "  url(//fonts.gstatic.com/s/roboto/v18/KFOlCnqEu92Fr1MmSU5fBBc9.ttf)format('truetype');}@font-face{font-family:'Roboto';font-style:normal;font-weight:400;src:local('Roboto Regular')  \\\n",
       "0                                                NaN                                                                                                                                    \n",
       "1                                                 ma                                                                                                                                    \n",
       "2  d){a!=Array.prototype&&a!=Object.prototype&&(a...                                                                                                                                    \n",
       "3                                        writable:!0                                                                                                                                    \n",
       "4                                       Math.min(d|0                                                                                                                                    \n",
       "\n",
       "                             local('Roboto-Regular')  \\\n",
       "0                                                NaN   \n",
       "1                                                 Ga   \n",
       "2                                                NaN   \n",
       "3                                       value:c})}};   \n",
       "4  this.length));for(var g=0;g<f&&d<e;)if(this[d+...   \n",
       "\n",
       "  url(//fonts.gstatic.com/s/roboto/v18/KFOmCnqEu92Fr1Mu4mxP.ttf)format('truetype');}@font-face{font-family:'Roboto';font-style:normal;font-weight:700;src:local('Roboto Bold')  \\\n",
       "0                                                NaN                                                                                                                             \n",
       "1                                                 Ha                                                                                                                             \n",
       "2                                                NaN                                                                                                                             \n",
       "3                                                NaN                                                                                                                             \n",
       "4              function(){return 9007199254740991});                                                                                                                             \n",
       "\n",
       "  local('Roboto-Bold')  \\\n",
       "0                  NaN   \n",
       "1                   Ka   \n",
       "2                  NaN   \n",
       "3                  NaN   \n",
       "4                  NaN   \n",
       "\n",
       "  url(//fonts.gstatic.com/s/roboto/v18/KFOlCnqEu92Fr1MmWUlfBBc9.ttf)format('truetype');}</style><meta name=\"referrer\" content=\"origin\"><title>openpowerlifting.csv - Google Drive</title><meta property=\"og:title\" content=\"openpowerlifting.csv\"><meta property=\"og:type\" content=\"article\"><meta property=\"og:site_name\" content=\"Google Docs\"><meta property=\"og:url\" content=\"https://drive.google.com/file/d/1usTmiRGzNHIr_AQpdCCheC-eG0wj1BoC/view?usp=drive_open&amp;usp=embed_facebook\"><link rel=\"shortcut icon\" href=\"https://ssl.gstatic.com/docs/doclist/images/icon_14_text_favicon.ico\"><link href=\"https://fonts.googleapis.com/css?family=Google+Sans\" rel=stylesheet><link rel=\"stylesheet\" href=\"https://www.gstatic.com/_/apps-fileview/_/ss/k=apps-fileview.v.8bs74LepFzU.L.X.O/d=0/rs=AO0039tOr1WvAwTJpbwpnfh29bM-wZ-ugg\"><script>_docs_flag_initialData={\"docs-ails\":\"docs_cold\"  \\\n",
       "0                                                NaN                                                                                                                                                                                                                                                                                                                                                                                                                                                                                                                                                                                                                                                                                                                                                                                                                                                     \n",
       "1  La;ba=function(a){var c=0;return function(){re...                                                                                                                                                                                                                                                                                                                                                                                                                                                                                                                                                                                                                                                                                                                                                                                                                                                     \n",
       "2                                                NaN                                                                                                                                                                                                                                                                                                                                                                                                                                                                                                                                                                                                                                                                                                                                                                                                                                                     \n",
       "3                                                NaN                                                                                                                                                                                                                                                                                                                                                                                                                                                                                                                                                                                                                                                                                                                                                                                                                                                     \n",
       "4                                                NaN                                                                                                                                                                                                                                                                                                                                                                                                                                                                                                                                                                                                                                                                                                                                                                                                                                                     \n",
       "\n",
       "                                docs-fwds:\"docs_sdf\"  ... null.33  \\\n",
       "0                                                NaN  ...     NaN   \n",
       "1  value:a[c++]}:{done:!0}}};_.ca=function(a){var...  ...     NaN   \n",
       "2                                                NaN  ...     NaN   \n",
       "3                                                NaN  ...     NaN   \n",
       "4                                                NaN  ...     NaN   \n",
       "\n",
       "  https://www.gstatic.com/og/_/js/k=og.qtm.en_US.GZd_fXPUFh8.O/rt=j/m=q_d,qmutsd/exm=qaaw,qabr,qadd,qaid,qebr,qein,qhaw,qhbr,qhch,qhga,qhid,qhin,qhpr/d=1/ed=1/rs=AA2YrTuM1kVC9vHNdW8PLH3NtOO7suw07g]  \\\n",
       "0                                                NaN                                                                                                                                                    \n",
       "1                                                NaN                                                                                                                                                    \n",
       "2                                                NaN                                                                                                                                                    \n",
       "3                                                NaN                                                                                                                                                    \n",
       "4                                                NaN                                                                                                                                                    \n",
       "\n",
       "  [null.1 null.34 null.35  \\\n",
       "0     NaN     NaN     NaN   \n",
       "1     NaN     NaN     NaN   \n",
       "2     NaN     NaN     NaN   \n",
       "3     NaN     NaN     NaN   \n",
       "4     NaN     NaN     NaN   \n",
       "\n",
       "  https://www.gstatic.com/og/_/ss/k=og.qtm.176xn6rlujucp.L.X.O/m=q_d/excm=qaaw,qabr,qadd,qaid,qebr,qein,qhaw,qhbr,qhch,qhga,qhid,qhin,qhpr/d=1/ed=1/rs=AA2YrTvnSA96AXWfs9mOvWeqHp1WTUkyUw]]  \\\n",
       "0                                                NaN                                                                                                                                          \n",
       "1                                                NaN                                                                                                                                          \n",
       "2                                                NaN                                                                                                                                          \n",
       "3                                                NaN                                                                                                                                          \n",
       "4                                                NaN                                                                                                                                          \n",
       "\n",
       "  null.36 null.37 [\"\"]]]  \\\n",
       "0     NaN     NaN    NaN   \n",
       "1     NaN     NaN    NaN   \n",
       "2     NaN     NaN    NaN   \n",
       "3     NaN     NaN    NaN   \n",
       "4     NaN     NaN    NaN   \n",
       "\n",
       "  };this.gbar_=this.gbar_||{};(function(_){var window=this;  \n",
       "0                                                NaN         \n",
       "1                                                NaN         \n",
       "2                                                NaN         \n",
       "3                                                NaN         \n",
       "4                                                NaN         \n",
       "\n",
       "[5 rows x 402 columns]"
      ]
     },
     "execution_count": 1040,
     "metadata": {},
     "output_type": "execute_result"
    }
   ],
   "source": [
    "print (' Filas Columnas')\n",
    "print (Frame.shape)"
   ]
  },
  {
   "cell_type": "markdown",
   "metadata": {},
   "source": [
    "### Seleccionando los Features\n",
    "\n",
    "Utilizaremos el codigo head para determinar el nombre de las columnas en nuestro set."
   ]
  },
  {
   "cell_type": "code",
   "execution_count": 1016,
   "metadata": {},
   "outputs": [
    {
     "data": {
      "text/html": [
       "<div>\n",
       "<style scoped>\n",
       "    .dataframe tbody tr th:only-of-type {\n",
       "        vertical-align: middle;\n",
       "    }\n",
       "\n",
       "    .dataframe tbody tr th {\n",
       "        vertical-align: top;\n",
       "    }\n",
       "\n",
       "    .dataframe thead th {\n",
       "        text-align: right;\n",
       "    }\n",
       "</style>\n",
       "<table border=\"1\" class=\"dataframe\">\n",
       "  <thead>\n",
       "    <tr style=\"text-align: right;\">\n",
       "      <th></th>\n",
       "      <th>Name</th>\n",
       "      <th>Sex</th>\n",
       "      <th>Event</th>\n",
       "      <th>Equipment</th>\n",
       "      <th>Age</th>\n",
       "      <th>AgeClass</th>\n",
       "      <th>Division</th>\n",
       "      <th>BodyweightKg</th>\n",
       "      <th>WeightClassKg</th>\n",
       "      <th>Squat1Kg</th>\n",
       "      <th>...</th>\n",
       "      <th>McCulloch</th>\n",
       "      <th>Glossbrenner</th>\n",
       "      <th>IPFPoints</th>\n",
       "      <th>Tested</th>\n",
       "      <th>Country</th>\n",
       "      <th>Federation</th>\n",
       "      <th>Date</th>\n",
       "      <th>MeetCountry</th>\n",
       "      <th>MeetState</th>\n",
       "      <th>MeetName</th>\n",
       "    </tr>\n",
       "  </thead>\n",
       "  <tbody>\n",
       "    <tr>\n",
       "      <th>0</th>\n",
       "      <td>Abbie Murphy</td>\n",
       "      <td>F</td>\n",
       "      <td>SBD</td>\n",
       "      <td>Wraps</td>\n",
       "      <td>29.0</td>\n",
       "      <td>24-34</td>\n",
       "      <td>F-OR</td>\n",
       "      <td>59.8</td>\n",
       "      <td>60</td>\n",
       "      <td>80.0</td>\n",
       "      <td>...</td>\n",
       "      <td>324.16</td>\n",
       "      <td>286.42</td>\n",
       "      <td>511.15</td>\n",
       "      <td>NaN</td>\n",
       "      <td>NaN</td>\n",
       "      <td>GPC-AUS</td>\n",
       "      <td>2018-10-27</td>\n",
       "      <td>Australia</td>\n",
       "      <td>VIC</td>\n",
       "      <td>Melbourne Cup</td>\n",
       "    </tr>\n",
       "    <tr>\n",
       "      <th>1</th>\n",
       "      <td>Abbie Tuong</td>\n",
       "      <td>F</td>\n",
       "      <td>SBD</td>\n",
       "      <td>Wraps</td>\n",
       "      <td>29.0</td>\n",
       "      <td>24-34</td>\n",
       "      <td>F-OR</td>\n",
       "      <td>58.5</td>\n",
       "      <td>60</td>\n",
       "      <td>100.0</td>\n",
       "      <td>...</td>\n",
       "      <td>378.07</td>\n",
       "      <td>334.16</td>\n",
       "      <td>595.65</td>\n",
       "      <td>NaN</td>\n",
       "      <td>NaN</td>\n",
       "      <td>GPC-AUS</td>\n",
       "      <td>2018-10-27</td>\n",
       "      <td>Australia</td>\n",
       "      <td>VIC</td>\n",
       "      <td>Melbourne Cup</td>\n",
       "    </tr>\n",
       "    <tr>\n",
       "      <th>2</th>\n",
       "      <td>Ainslee Hooper</td>\n",
       "      <td>F</td>\n",
       "      <td>B</td>\n",
       "      <td>Raw</td>\n",
       "      <td>40.0</td>\n",
       "      <td>40-44</td>\n",
       "      <td>F-OR</td>\n",
       "      <td>55.4</td>\n",
       "      <td>56</td>\n",
       "      <td>NaN</td>\n",
       "      <td>...</td>\n",
       "      <td>38.56</td>\n",
       "      <td>34.12</td>\n",
       "      <td>313.97</td>\n",
       "      <td>NaN</td>\n",
       "      <td>NaN</td>\n",
       "      <td>GPC-AUS</td>\n",
       "      <td>2018-10-27</td>\n",
       "      <td>Australia</td>\n",
       "      <td>VIC</td>\n",
       "      <td>Melbourne Cup</td>\n",
       "    </tr>\n",
       "    <tr>\n",
       "      <th>3</th>\n",
       "      <td>Amy Moldenhauer</td>\n",
       "      <td>F</td>\n",
       "      <td>SBD</td>\n",
       "      <td>Wraps</td>\n",
       "      <td>23.0</td>\n",
       "      <td>20-23</td>\n",
       "      <td>F-OR</td>\n",
       "      <td>60.0</td>\n",
       "      <td>60</td>\n",
       "      <td>-105.0</td>\n",
       "      <td>...</td>\n",
       "      <td>345.61</td>\n",
       "      <td>305.37</td>\n",
       "      <td>547.04</td>\n",
       "      <td>NaN</td>\n",
       "      <td>NaN</td>\n",
       "      <td>GPC-AUS</td>\n",
       "      <td>2018-10-27</td>\n",
       "      <td>Australia</td>\n",
       "      <td>VIC</td>\n",
       "      <td>Melbourne Cup</td>\n",
       "    </tr>\n",
       "    <tr>\n",
       "      <th>4</th>\n",
       "      <td>Andrea Rowan</td>\n",
       "      <td>F</td>\n",
       "      <td>SBD</td>\n",
       "      <td>Wraps</td>\n",
       "      <td>45.0</td>\n",
       "      <td>45-49</td>\n",
       "      <td>F-OR</td>\n",
       "      <td>104.0</td>\n",
       "      <td>110</td>\n",
       "      <td>120.0</td>\n",
       "      <td>...</td>\n",
       "      <td>338.91</td>\n",
       "      <td>274.56</td>\n",
       "      <td>550.08</td>\n",
       "      <td>NaN</td>\n",
       "      <td>NaN</td>\n",
       "      <td>GPC-AUS</td>\n",
       "      <td>2018-10-27</td>\n",
       "      <td>Australia</td>\n",
       "      <td>VIC</td>\n",
       "      <td>Melbourne Cup</td>\n",
       "    </tr>\n",
       "  </tbody>\n",
       "</table>\n",
       "<p>5 rows × 37 columns</p>\n",
       "</div>"
      ],
      "text/plain": [
       "              Name Sex Event Equipment   Age AgeClass Division  BodyweightKg  \\\n",
       "0     Abbie Murphy   F   SBD     Wraps  29.0    24-34     F-OR          59.8   \n",
       "1      Abbie Tuong   F   SBD     Wraps  29.0    24-34     F-OR          58.5   \n",
       "2   Ainslee Hooper   F     B       Raw  40.0    40-44     F-OR          55.4   \n",
       "3  Amy Moldenhauer   F   SBD     Wraps  23.0    20-23     F-OR          60.0   \n",
       "4     Andrea Rowan   F   SBD     Wraps  45.0    45-49     F-OR         104.0   \n",
       "\n",
       "  WeightClassKg  Squat1Kg  ...  McCulloch  Glossbrenner  IPFPoints  Tested  \\\n",
       "0            60      80.0  ...     324.16        286.42     511.15     NaN   \n",
       "1            60     100.0  ...     378.07        334.16     595.65     NaN   \n",
       "2            56       NaN  ...      38.56         34.12     313.97     NaN   \n",
       "3            60    -105.0  ...     345.61        305.37     547.04     NaN   \n",
       "4           110     120.0  ...     338.91        274.56     550.08     NaN   \n",
       "\n",
       "   Country  Federation        Date  MeetCountry  MeetState       MeetName  \n",
       "0      NaN     GPC-AUS  2018-10-27    Australia        VIC  Melbourne Cup  \n",
       "1      NaN     GPC-AUS  2018-10-27    Australia        VIC  Melbourne Cup  \n",
       "2      NaN     GPC-AUS  2018-10-27    Australia        VIC  Melbourne Cup  \n",
       "3      NaN     GPC-AUS  2018-10-27    Australia        VIC  Melbourne Cup  \n",
       "4      NaN     GPC-AUS  2018-10-27    Australia        VIC  Melbourne Cup  \n",
       "\n",
       "[5 rows x 37 columns]"
      ]
     },
     "execution_count": 1016,
     "metadata": {},
     "output_type": "execute_result"
    }
   ],
   "source": [
    "Frame.head()"
   ]
  },
  {
   "cell_type": "markdown",
   "metadata": {},
   "source": [
    "Como se puede observar contamos con un ser de varios datos, pero cual seria una salida interesante de averiguar?\n",
    "Para este caso se buscara saber si en base a una serie de variables logramos predecir el exito o fracaso para levantar el siguiente peso. Para ello solo utilizaremos el primer ejercicio (Squat)."
   ]
  },
  {
   "cell_type": "markdown",
   "metadata": {},
   "source": [
    "Para ello seleccionaremos columnas especificas para utilizar como se muestra a continuacion"
   ]
  },
  {
   "cell_type": "code",
   "execution_count": 1017,
   "metadata": {},
   "outputs": [],
   "source": [
    "cols2use=['Sex','Equipment','Age','BodyweightKg','Squat1Kg','Squat2Kg','Squat3Kg']"
   ]
  },
  {
   "cell_type": "code",
   "execution_count": 1018,
   "metadata": {},
   "outputs": [
    {
     "data": {
      "text/html": [
       "<div>\n",
       "<style scoped>\n",
       "    .dataframe tbody tr th:only-of-type {\n",
       "        vertical-align: middle;\n",
       "    }\n",
       "\n",
       "    .dataframe tbody tr th {\n",
       "        vertical-align: top;\n",
       "    }\n",
       "\n",
       "    .dataframe thead th {\n",
       "        text-align: right;\n",
       "    }\n",
       "</style>\n",
       "<table border=\"1\" class=\"dataframe\">\n",
       "  <thead>\n",
       "    <tr style=\"text-align: right;\">\n",
       "      <th></th>\n",
       "      <th>Sex</th>\n",
       "      <th>Equipment</th>\n",
       "      <th>Age</th>\n",
       "      <th>BodyweightKg</th>\n",
       "      <th>Squat1Kg</th>\n",
       "      <th>Squat2Kg</th>\n",
       "      <th>Squat3Kg</th>\n",
       "    </tr>\n",
       "  </thead>\n",
       "  <tbody>\n",
       "    <tr>\n",
       "      <th>0</th>\n",
       "      <td>F</td>\n",
       "      <td>Wraps</td>\n",
       "      <td>29.0</td>\n",
       "      <td>59.8</td>\n",
       "      <td>80.0</td>\n",
       "      <td>92.5</td>\n",
       "      <td>105.0</td>\n",
       "    </tr>\n",
       "    <tr>\n",
       "      <th>1</th>\n",
       "      <td>F</td>\n",
       "      <td>Wraps</td>\n",
       "      <td>29.0</td>\n",
       "      <td>58.5</td>\n",
       "      <td>100.0</td>\n",
       "      <td>110.0</td>\n",
       "      <td>120.0</td>\n",
       "    </tr>\n",
       "    <tr>\n",
       "      <th>2</th>\n",
       "      <td>F</td>\n",
       "      <td>Raw</td>\n",
       "      <td>40.0</td>\n",
       "      <td>55.4</td>\n",
       "      <td>NaN</td>\n",
       "      <td>NaN</td>\n",
       "      <td>NaN</td>\n",
       "    </tr>\n",
       "    <tr>\n",
       "      <th>3</th>\n",
       "      <td>F</td>\n",
       "      <td>Wraps</td>\n",
       "      <td>23.0</td>\n",
       "      <td>60.0</td>\n",
       "      <td>-105.0</td>\n",
       "      <td>-105.0</td>\n",
       "      <td>105.0</td>\n",
       "    </tr>\n",
       "    <tr>\n",
       "      <th>4</th>\n",
       "      <td>F</td>\n",
       "      <td>Wraps</td>\n",
       "      <td>45.0</td>\n",
       "      <td>104.0</td>\n",
       "      <td>120.0</td>\n",
       "      <td>130.0</td>\n",
       "      <td>140.0</td>\n",
       "    </tr>\n",
       "  </tbody>\n",
       "</table>\n",
       "</div>"
      ],
      "text/plain": [
       "  Sex Equipment   Age  BodyweightKg  Squat1Kg  Squat2Kg  Squat3Kg\n",
       "0   F     Wraps  29.0          59.8      80.0      92.5     105.0\n",
       "1   F     Wraps  29.0          58.5     100.0     110.0     120.0\n",
       "2   F       Raw  40.0          55.4       NaN       NaN       NaN\n",
       "3   F     Wraps  23.0          60.0    -105.0    -105.0     105.0\n",
       "4   F     Wraps  45.0         104.0     120.0     130.0     140.0"
      ]
     },
     "execution_count": 1018,
     "metadata": {},
     "output_type": "execute_result"
    }
   ],
   "source": [
    "Frame=Frame[cols2use]\n",
    "Frame.head()"
   ]
  },
  {
   "cell_type": "markdown",
   "metadata": {},
   "source": [
    "Estos son entonces los datos de interes, posteriormente se agregaran mas en base a estos mismos. Pero primero se trabajaran un poco mas."
   ]
  },
  {
   "cell_type": "markdown",
   "metadata": {},
   "source": [
    "#### Limpiando Nulls\n",
    "Utilizando el siguiente codigo buscaremos identificar si hay algún valor nulo en el set."
   ]
  },
  {
   "cell_type": "code",
   "execution_count": 1019,
   "metadata": {},
   "outputs": [
    {
     "name": "stdout",
     "output_type": "stream",
     "text": [
      "Identificacion de cantidad de valores nulos\n",
      "Sex                   0\n",
      "Equipment             0\n",
      "Age              665827\n",
      "BodyweightKg      16732\n",
      "Squat1Kg        1085774\n",
      "Squat2Kg        1090005\n",
      "Squat3Kg        1099512\n",
      "dtype: int64\n"
     ]
    }
   ],
   "source": [
    "print('Identificacion de cantidad de valores nulos')\n",
    "nNULL=Frame.isnull().sum()\n",
    "print(nNULL)"
   ]
  },
  {
   "cell_type": "markdown",
   "metadata": {},
   "source": [
    "Una vez identificados se procede a eliminar dichos valores nulos"
   ]
  },
  {
   "cell_type": "code",
   "execution_count": 1020,
   "metadata": {},
   "outputs": [
    {
     "name": "stdout",
     "output_type": "stream",
     "text": [
      "Sex             0\n",
      "Equipment       0\n",
      "Age             0\n",
      "BodyweightKg    0\n",
      "Squat1Kg        0\n",
      "Squat2Kg        0\n",
      "Squat3Kg        0\n",
      "dtype: int64\n"
     ]
    }
   ],
   "source": [
    "Frame=Frame.dropna()\n",
    "nNULL=Frame.isnull().sum()\n",
    "print(nNULL)"
   ]
  },
  {
   "cell_type": "markdown",
   "metadata": {},
   "source": [
    "Este procedimiento nos deja con una cantidad bastante menor de datos. Normalmente Eliminar los valores nulos no deberia ser la primera opcion pero tomando en cuenta el gran numero de datos se decido utilizarla."
   ]
  },
  {
   "cell_type": "code",
   "execution_count": 1021,
   "metadata": {},
   "outputs": [
    {
     "name": "stdout",
     "output_type": "stream",
     "text": [
      " Filas Columnas\n",
      "(266897, 7)\n"
     ]
    }
   ],
   "source": [
    "print (' Filas Columnas')\n",
    "print (Frame.shape)"
   ]
  },
  {
   "cell_type": "markdown",
   "metadata": {},
   "source": [
    "Nos quedamos entonces con aproximadamente 149 mil lineas. que representan la seccion de la poblacion para la cual conocemos todos los datos de interes."
   ]
  },
  {
   "cell_type": "markdown",
   "metadata": {},
   "source": [
    "#### Definiendo Features y Labels\n",
    "\n",
    "Una parte fundamental del Aprendizaje supervisado es definir los Features de los Labels. Los primeros son tanto las entradas que utilizamos para probar como para testear nuestro sistema. Mientras que los segundos se usan para entrenar y evaluar el sistema."
   ]
  },
  {
   "cell_type": "markdown",
   "metadata": {},
   "source": [
    "Como se menciono anteriormente la idea sera determinar si es posible predecir el exito en el levantamiento 3 basados en un grupo de entradas."
   ]
  },
  {
   "cell_type": "markdown",
   "metadata": {},
   "source": [
    "Sexo: Es evidente que por un factor biologico los hombres pueden llegar a levantar mas peso que las mujeres suponiendo igualdad de condiciones por lo que este factor sera tomado en cuenta. Se utilizara 1 para Hombre y 0 para Mujer."
   ]
  },
  {
   "cell_type": "code",
   "execution_count": 1022,
   "metadata": {},
   "outputs": [],
   "source": [
    "Frame['Sex']=Frame['Sex'].replace({'M':1,'F':0})"
   ]
  },
  {
   "cell_type": "markdown",
   "metadata": {},
   "source": [
    "Equipo: Parte de la hipotesis es que ciertos equipos pueden afectar el desempeño. Se usara Raw=0, Wraps=1, Multi-ply=2, Single-ply=3"
   ]
  },
  {
   "cell_type": "code",
   "execution_count": 1023,
   "metadata": {},
   "outputs": [],
   "source": [
    "Frame['Equipment']=Frame['Equipment'].replace({'Raw':0, 'Wraps':1, 'Multi-ply':2, 'Single-ply':3})"
   ]
  },
  {
   "cell_type": "markdown",
   "metadata": {},
   "source": [
    "Edad: La edad es un factor que tambien sera tomado en cuenta. Se supone que un niño o adulto mayor no contaran con la capacidad fisica que un adulto en sus 20-30 años. Denuevo suponiendo igualdad de condiciones."
   ]
  },
  {
   "cell_type": "markdown",
   "metadata": {},
   "source": [
    "Peso: Se estima que el peso corporal debe estar relacionado con la cantidad de peso que se puede levantar."
   ]
  },
  {
   "cell_type": "markdown",
   "metadata": {},
   "source": [
    "Exito en Squat 1: Se tuvo exito en el levantamiento 1. 1 es un Exito y 0 es un Fallo."
   ]
  },
  {
   "cell_type": "code",
   "execution_count": 1024,
   "metadata": {},
   "outputs": [],
   "source": [
    "Frame['Success1']=Frame['Squat1Kg'].apply(lambda x: 1 if x>=0 else 0)"
   ]
  },
  {
   "cell_type": "markdown",
   "metadata": {},
   "source": [
    "Squat1: Cantidad de peso levantado en el primer squat (Se aplica valor absoluto para separar el valor levantado del signo que era la representacion del exito o el fracaso)"
   ]
  },
  {
   "cell_type": "code",
   "execution_count": 1025,
   "metadata": {},
   "outputs": [],
   "source": [
    "Frame['Squat1Kg']=Frame['Squat1Kg'].abs()"
   ]
  },
  {
   "cell_type": "markdown",
   "metadata": {},
   "source": [
    "Se hace lo mismo con el Squat2 y Squat3"
   ]
  },
  {
   "cell_type": "code",
   "execution_count": 1026,
   "metadata": {},
   "outputs": [],
   "source": [
    "Frame['Success2']=Frame['Squat2Kg'].apply(lambda x: 1 if x>=0 else 0)\n",
    "Frame['Squat2Kg']=Frame['Squat2Kg'].abs()\n",
    "Frame['Success3']=Frame['Squat3Kg'].apply(lambda x: 1 if x>=0 else 0)\n",
    "Frame['Squat3Kg']=Frame['Squat3Kg'].abs()"
   ]
  },
  {
   "cell_type": "markdown",
   "metadata": {},
   "source": [
    "El resultado se observa a continuacion:"
   ]
  },
  {
   "cell_type": "code",
   "execution_count": 1027,
   "metadata": {},
   "outputs": [
    {
     "data": {
      "text/html": [
       "<div>\n",
       "<style scoped>\n",
       "    .dataframe tbody tr th:only-of-type {\n",
       "        vertical-align: middle;\n",
       "    }\n",
       "\n",
       "    .dataframe tbody tr th {\n",
       "        vertical-align: top;\n",
       "    }\n",
       "\n",
       "    .dataframe thead th {\n",
       "        text-align: right;\n",
       "    }\n",
       "</style>\n",
       "<table border=\"1\" class=\"dataframe\">\n",
       "  <thead>\n",
       "    <tr style=\"text-align: right;\">\n",
       "      <th></th>\n",
       "      <th>Sex</th>\n",
       "      <th>Equipment</th>\n",
       "      <th>Age</th>\n",
       "      <th>BodyweightKg</th>\n",
       "      <th>Squat1Kg</th>\n",
       "      <th>Squat2Kg</th>\n",
       "      <th>Squat3Kg</th>\n",
       "      <th>Success1</th>\n",
       "      <th>Success2</th>\n",
       "      <th>Success3</th>\n",
       "    </tr>\n",
       "  </thead>\n",
       "  <tbody>\n",
       "    <tr>\n",
       "      <th>0</th>\n",
       "      <td>0</td>\n",
       "      <td>1</td>\n",
       "      <td>29.0</td>\n",
       "      <td>59.8</td>\n",
       "      <td>80.0</td>\n",
       "      <td>92.5</td>\n",
       "      <td>105.0</td>\n",
       "      <td>1</td>\n",
       "      <td>1</td>\n",
       "      <td>1</td>\n",
       "    </tr>\n",
       "    <tr>\n",
       "      <th>1</th>\n",
       "      <td>0</td>\n",
       "      <td>1</td>\n",
       "      <td>29.0</td>\n",
       "      <td>58.5</td>\n",
       "      <td>100.0</td>\n",
       "      <td>110.0</td>\n",
       "      <td>120.0</td>\n",
       "      <td>1</td>\n",
       "      <td>1</td>\n",
       "      <td>1</td>\n",
       "    </tr>\n",
       "    <tr>\n",
       "      <th>3</th>\n",
       "      <td>0</td>\n",
       "      <td>1</td>\n",
       "      <td>23.0</td>\n",
       "      <td>60.0</td>\n",
       "      <td>105.0</td>\n",
       "      <td>105.0</td>\n",
       "      <td>105.0</td>\n",
       "      <td>0</td>\n",
       "      <td>0</td>\n",
       "      <td>1</td>\n",
       "    </tr>\n",
       "    <tr>\n",
       "      <th>4</th>\n",
       "      <td>0</td>\n",
       "      <td>1</td>\n",
       "      <td>45.0</td>\n",
       "      <td>104.0</td>\n",
       "      <td>120.0</td>\n",
       "      <td>130.0</td>\n",
       "      <td>140.0</td>\n",
       "      <td>1</td>\n",
       "      <td>1</td>\n",
       "      <td>1</td>\n",
       "    </tr>\n",
       "    <tr>\n",
       "      <th>5</th>\n",
       "      <td>0</td>\n",
       "      <td>1</td>\n",
       "      <td>37.0</td>\n",
       "      <td>74.0</td>\n",
       "      <td>127.5</td>\n",
       "      <td>135.0</td>\n",
       "      <td>142.5</td>\n",
       "      <td>1</td>\n",
       "      <td>1</td>\n",
       "      <td>1</td>\n",
       "    </tr>\n",
       "  </tbody>\n",
       "</table>\n",
       "</div>"
      ],
      "text/plain": [
       "   Sex  Equipment   Age  BodyweightKg  Squat1Kg  Squat2Kg  Squat3Kg  Success1  \\\n",
       "0    0          1  29.0          59.8      80.0      92.5     105.0         1   \n",
       "1    0          1  29.0          58.5     100.0     110.0     120.0         1   \n",
       "3    0          1  23.0          60.0     105.0     105.0     105.0         0   \n",
       "4    0          1  45.0         104.0     120.0     130.0     140.0         1   \n",
       "5    0          1  37.0          74.0     127.5     135.0     142.5         1   \n",
       "\n",
       "   Success2  Success3  \n",
       "0         1         1  \n",
       "1         1         1  \n",
       "3         0         1  \n",
       "4         1         1  \n",
       "5         1         1  "
      ]
     },
     "execution_count": 1027,
     "metadata": {},
     "output_type": "execute_result"
    }
   ],
   "source": [
    "Frame.head()"
   ]
  },
  {
   "cell_type": "markdown",
   "metadata": {},
   "source": [
    "Se selecciona entonces los Features de interes."
   ]
  },
  {
   "cell_type": "code",
   "execution_count": 1028,
   "metadata": {},
   "outputs": [],
   "source": [
    "Features = Frame[['Sex','Equipment','Age','BodyweightKg','Squat1Kg','Success1','Squat2Kg','Success2','Squat3Kg']]"
   ]
  },
  {
   "cell_type": "markdown",
   "metadata": {},
   "source": [
    "El Label sera la caracteristica a predecir."
   ]
  },
  {
   "cell_type": "code",
   "execution_count": 1029,
   "metadata": {},
   "outputs": [],
   "source": [
    "Label = Frame['Success3']"
   ]
  },
  {
   "cell_type": "markdown",
   "metadata": {},
   "source": [
    "### Analisis a partir de multiples metodos supervisados:\n",
    "\n",
    "Se escogieron 6 metodos de aprendizaje supervisado. Para comparar sus propiedades a continuacion se muestran los resultados obtenidos para cada uno de ellos."
   ]
  },
  {
   "cell_type": "markdown",
   "metadata": {},
   "source": [
    "Antes de entrar en materia es importante comentar una caracteristica particular de este tipo de metodos es que se requiere un grupo de datos para entrenar y un grupo de datos para Testear que el entrenamiento se ha llevado a cabo con exito. Para ello utilizaremos la siguiente instruccion:"
   ]
  },
  {
   "cell_type": "code",
   "execution_count": 1030,
   "metadata": {},
   "outputs": [],
   "source": [
    "from sklearn.model_selection import train_test_split"
   ]
  },
  {
   "cell_type": "markdown",
   "metadata": {},
   "source": [
    "Separaremos entonces nuestros features y labels en dos grupos uno de test y uno de train"
   ]
  },
  {
   "cell_type": "code",
   "execution_count": 1031,
   "metadata": {},
   "outputs": [],
   "source": [
    "X_train, X_test, Y_train, Y_test = train_test_split(Features, Label, random_state=27)"
   ]
  },
  {
   "cell_type": "markdown",
   "metadata": {},
   "source": []
  },
  {
   "cell_type": "code",
   "execution_count": 1032,
   "metadata": {},
   "outputs": [],
   "source": [
    "from sklearn.tree import DecisionTreeClassifier"
   ]
  },
  {
   "cell_type": "code",
   "execution_count": 1033,
   "metadata": {},
   "outputs": [],
   "source": [
    "DecisionTreeModel = DecisionTreeClassifier(max_depth=3)"
   ]
  },
  {
   "cell_type": "code",
   "execution_count": 1034,
   "metadata": {},
   "outputs": [
    {
     "data": {
      "text/plain": [
       "DecisionTreeClassifier(class_weight=None, criterion='gini', max_depth=3,\n",
       "                       max_features=None, max_leaf_nodes=None,\n",
       "                       min_impurity_decrease=0.0, min_impurity_split=None,\n",
       "                       min_samples_leaf=1, min_samples_split=2,\n",
       "                       min_weight_fraction_leaf=0.0, presort=False,\n",
       "                       random_state=None, splitter='best')"
      ]
     },
     "execution_count": 1034,
     "metadata": {},
     "output_type": "execute_result"
    }
   ],
   "source": [
    "DecisionTreeModel.fit(X_train,Y_train)"
   ]
  },
  {
   "cell_type": "code",
   "execution_count": null,
   "metadata": {},
   "outputs": [],
   "source": []
  }
 ],
 "metadata": {
  "kernelspec": {
   "display_name": "Python 3",
   "language": "python",
   "name": "python3"
  },
  "language_info": {
   "codemirror_mode": {
    "name": "ipython",
    "version": 3
   },
   "file_extension": ".py",
   "mimetype": "text/x-python",
   "name": "python",
   "nbconvert_exporter": "python",
   "pygments_lexer": "ipython3",
   "version": "3.7.3"
  }
 },
 "nbformat": 4,
 "nbformat_minor": 2
}
